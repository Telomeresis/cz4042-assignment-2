{
  "nbformat": 4,
  "nbformat_minor": 0,
  "metadata": {
    "colab": {
      "name": "Part_B_Q4_WordRNN.ipynb",
      "provenance": [],
      "collapsed_sections": []
    },
    "kernelspec": {
      "name": "python3",
      "display_name": "Python 3"
    },
    "accelerator": "GPU"
  },
  "cells": [
    {
      "cell_type": "code",
      "metadata": {
        "id": "LWmBmcnl-ylV",
        "outputId": "1bc4273f-fc74-4215-a1db-661d36794655",
        "colab": {
          "base_uri": "https://localhost:8080/"
        }
      },
      "source": [
        "# Import libraries\n",
        "import csv\n",
        "import re\n",
        "import pylab\n",
        "import time\n",
        "import collections\n",
        "import numpy as np\n",
        "import nltk\n",
        "import tensorflow as tf\n",
        "from nltk.tokenize import word_tokenize\n",
        "from tensorflow.keras import Model, layers\n",
        "from keras.utils.np_utils import to_categorical\n",
        "import matplotlib.pyplot as plt\n",
        "\n",
        "import pickle\n",
        "\n",
        "nltk.download('punkt')\n",
        "\n",
        "from google.colab import drive\n",
        "drive.mount('/content/gdrive')"
      ],
      "execution_count": 1,
      "outputs": [
        {
          "output_type": "stream",
          "text": [
            "[nltk_data] Downloading package punkt to /root/nltk_data...\n",
            "[nltk_data]   Unzipping tokenizers/punkt.zip.\n",
            "Mounted at /content/gdrive\n"
          ],
          "name": "stdout"
        }
      ]
    },
    {
      "cell_type": "code",
      "metadata": {
        "id": "26nY2PLO_cMs",
        "outputId": "cdc1730c-b3f5-4605-c13f-b6b84bb528c5",
        "colab": {
          "base_uri": "https://localhost:8080/"
        }
      },
      "source": [
        "# RTX On\n",
        "gpus = tf.config.experimental.list_physical_devices('GPU')\n",
        "if gpus:\n",
        "    try:\n",
        "        # Currently, memory growth needs to be the same across GPUs\n",
        "        for gpu in gpus:\n",
        "            tf.config.experimental.set_memory_growth(gpu, True)\n",
        "        logical_gpus = tf.config.experimental.list_logical_devices('GPU')\n",
        "        print(len(gpus), \"Physical GPUs,\", len(logical_gpus), \"Logical GPUs\")\n",
        "    except RuntimeError as e:\n",
        "        # Memory growth must be set before GPUs have been initialized\n",
        "        print(e)"
      ],
      "execution_count": null,
      "outputs": [
        {
          "output_type": "stream",
          "text": [
            "1 Physical GPUs, 1 Logical GPUs\n"
          ],
          "name": "stdout"
        }
      ]
    },
    {
      "cell_type": "markdown",
      "metadata": {
        "id": "y64D0evb_fJL"
      },
      "source": [
        "# Variables"
      ]
    },
    {
      "cell_type": "code",
      "metadata": {
        "id": "vEghtl1P_gWp"
      },
      "source": [
        "# Initialize variables to be used later\n",
        "MAX_DOCUMENT_LENGTH = 100\n",
        "N_FILTERS = 10\n",
        "FILTER_SHAPE1 = [20, 256]\n",
        "FILTER_SHAPE2= [20, 1]\n",
        "FILTER_SHAPE3 = [20, 20]\n",
        "POOLING_WINDOW = 4\n",
        "POOLING_STRIDE = 2\n",
        "MAX_LABEL = 15\n",
        " \n",
        "batch_size = 128\n",
        "one_hot_size = 256\n",
        "no_epochs = 250\n",
        "lr = 0.01\n",
        " \n",
        "seed = 10\n",
        "tf.random.set_seed(seed)"
      ],
      "execution_count": null,
      "outputs": []
    },
    {
      "cell_type": "code",
      "metadata": {
        "id": "5KEwSLgBKPzj"
      },
      "source": [
        "EMBEDDING_SIZE = 20"
      ],
      "execution_count": null,
      "outputs": []
    },
    {
      "cell_type": "code",
      "metadata": {
        "id": "_DGiOeFQ_m6D"
      },
      "source": [
        "# Initialise variables for RNN\n",
        "HIDDEN_SIZE = 20"
      ],
      "execution_count": null,
      "outputs": []
    },
    {
      "cell_type": "markdown",
      "metadata": {
        "id": "mVm9XCCj_rjW"
      },
      "source": [
        "# Word Functions"
      ]
    },
    {
      "cell_type": "code",
      "metadata": {
        "id": "TRPjp9rW_q5j"
      },
      "source": [
        "#Define functions used for word classifier\n",
        "def clean_str(text):\n",
        "    text = re.sub(r\"[^A-Za-z0-9(),!?\\'\\`\\\"]\", \" \", text)\n",
        "    text = re.sub(r\"\\s{2,}\", \" \", text)\n",
        "    text = text.strip().lower()\n",
        "\n",
        "    return text\n",
        "\n",
        "\n",
        "def build_word_dict(contents):\n",
        "    words = list()\n",
        "    for content in contents:\n",
        "        for word in word_tokenize(clean_str(content)):\n",
        "            words.append(word)\n",
        "\n",
        "    word_counter = collections.Counter(words).most_common()\n",
        "    word_dict = dict()\n",
        "    word_dict[\"<pad>\"] = 0\n",
        "    word_dict[\"<unk>\"] = 1\n",
        "    word_dict[\"<eos>\"] = 2\n",
        "    for word, _ in word_counter:\n",
        "        word_dict[word] = len(word_dict)\n",
        "    return word_dict\n",
        "\n",
        "\n",
        "def preprocess(contents, word_dict, document_max_len):\n",
        "    x = list(map(lambda d: word_tokenize(clean_str(d)), contents))\n",
        "    x = list(map(lambda d: list(map(lambda w: word_dict.get(w, word_dict[\"<unk>\"]), d)), x))\n",
        "    x = list(map(lambda d: d + [word_dict[\"<eos>\"]], x))\n",
        "    x = list(map(lambda d: d[:document_max_len], x))\n",
        "    x = list(map(lambda d: d + (document_max_len - len(d)) * [word_dict[\"<pad>\"]], x))\n",
        "    return x\n",
        "\n",
        "\n",
        "def read_data_words():\n",
        "    x_train, y_train, x_test, y_test = [], [], [], []\n",
        "    cop = re.compile(\"[^a-z^A-Z^0-9^,^.^' ']\")\n",
        "    with open('/content/gdrive/My Drive/Colab Notebooks/train_medium.csv', encoding='utf-8') as filex:\n",
        "    #with open('train_medium.csv', encoding='utf-8') as filex:\n",
        "        reader = csv.reader(filex)\n",
        "        for row in reader:\n",
        "            data = cop.sub(\"\", row[1])\n",
        "            x_train.append(data)\n",
        "            y_train.append(int(row[0]))\n",
        "    with open('/content/gdrive/My Drive/Colab Notebooks/test_medium.csv', encoding='utf-8') as filex:   \n",
        "    #with open('test_medium.csv', encoding='utf-8') as filex:\n",
        "        reader = csv.reader(filex)\n",
        "        for row in reader:\n",
        "            data = cop.sub(\"\", row[1])\n",
        "            x_test.append(data)\n",
        "            y_test.append(int(row[0]))\n",
        "\n",
        "    word_dict = build_word_dict(x_train+x_test)\n",
        "    x_train = preprocess(x_train, word_dict, MAX_DOCUMENT_LENGTH)\n",
        "    y_train = np.array(y_train)\n",
        "    x_test = preprocess(x_test, word_dict, MAX_DOCUMENT_LENGTH)\n",
        "    y_test = np.array(y_test)\n",
        "\n",
        "    x_train = [x[:MAX_DOCUMENT_LENGTH] for x in x_train]\n",
        "    x_test = [x[:MAX_DOCUMENT_LENGTH] for x in x_test]\n",
        "    x_train = tf.constant(x_train, dtype=tf.int64)\n",
        "    y_train = tf.constant(y_train, dtype=tf.int64)\n",
        "    x_test = tf.constant(x_test, dtype=tf.int64)\n",
        "    y_test = tf.constant(y_test, dtype=tf.int64)\n",
        "\n",
        "    vocab_size = tf.get_static_value(tf.reduce_max(x_train))\n",
        "    vocab_size = max(vocab_size, tf.get_static_value(tf.reduce_max(x_test))) + 1\n",
        "    return x_train, y_train, x_test, y_test, vocab_size\n",
        "\n",
        "\n",
        "#Read in the dataset and vocab size\n",
        "x_train_word, y_train_word, x_test_word, y_test_word, vocab_size_word = read_data_words()\n",
        "\n",
        "# Use `tf.data` to batch and shuffle the dataset:\n",
        "train_ds_word = tf.data.Dataset.from_tensor_slices(\n",
        "    (x_train_word, y_train_word)).shuffle(10000).batch(batch_size)\n",
        "test_ds_word = tf.data.Dataset.from_tensor_slices((x_test_word, y_test_word)).batch(batch_size)"
      ],
      "execution_count": null,
      "outputs": []
    },
    {
      "cell_type": "markdown",
      "metadata": {
        "id": "FFSsKQLZGvHR"
      },
      "source": [
        "# RNN Training & Testing Functions"
      ]
    },
    {
      "cell_type": "code",
      "metadata": {
        "id": "m4jjMstdGuLv"
      },
      "source": [
        "def train_step_2(model, x, label, drop_rate):\n",
        "    with tf.GradientTape() as tape:\n",
        "        out = model(x, drop_rate)\n",
        "        loss = loss_object_2(label, out)\n",
        "        gradients = tape.gradient(loss, model.trainable_variables)\n",
        "        optimizer.apply_gradients(zip(gradients, model.trainable_variables))\n",
        "        \n",
        "    train_loss(loss)\n",
        "    train_accuracy(labels, out)\n",
        "\n",
        "# Testing function\n",
        "def test_step_2(model, x, label, drop_rate=0):\n",
        "    out = model(x,drop_rate)\n",
        "    t_loss = loss_object_2(label, out)\n",
        "    test_loss(t_loss)\n",
        "    test_accuracy(label, out)"
      ],
      "execution_count": null,
      "outputs": []
    },
    {
      "cell_type": "markdown",
      "metadata": {
        "id": "8ESIxkYH_9ls"
      },
      "source": [
        "# Model Definition"
      ]
    },
    {
      "cell_type": "code",
      "metadata": {
        "id": "166Qxs2_ACjR"
      },
      "source": [
        "# Build model\n",
        "tf.keras.backend.set_floatx('float32')\n",
        "class WordRNN(Model):\n",
        "\n",
        "    def __init__(self, vocab_size, hidden_dim=10):\n",
        "        super(WordRNN, self).__init__()\n",
        "        # Hyperparameters\n",
        "        self.hidden_dim = hidden_dim\n",
        "        self.vocab_size = vocab_size\n",
        "        self.embedding = layers.Embedding(vocab_size, EMBEDDING_SIZE, input_length=MAX_DOCUMENT_LENGTH)\n",
        "        \n",
        "        # Weight variables and RNN cell\n",
        "        self.rnn = layers.RNN(tf.keras.layers.GRUCell(self.hidden_dim), unroll=True)\n",
        "        self.dense = layers.Dense(MAX_LABEL, activation=None)\n",
        "\n",
        "    def call(self, x, drop_rate):\n",
        "        # forward logic\n",
        "        embedding = self.embedding(x)\n",
        "        encoding = self.rnn(embedding)\n",
        "        encoding = tf.nn.dropout(encoding, drop_rate)\n",
        "        logits = self.dense(encoding)\n",
        "    \n",
        "        return logits"
      ],
      "execution_count": null,
      "outputs": []
    },
    {
      "cell_type": "code",
      "metadata": {
        "id": "-HweRZSnHDrY"
      },
      "source": [
        "#Choose optimizer and loss function for training\n",
        "loss_object_2 = tf.keras.losses.SparseCategoricalCrossentropy(from_logits=True)\n",
        "optimizer = tf.keras.optimizers.Adam(learning_rate=lr)\n",
        "\n",
        "#Select metrics to measure the loss and the accuracy of the model. \n",
        "#These metrics accumulate the values over epochs and then print the overall result.\n",
        "train_loss = tf.keras.metrics.Mean(name='train_loss')\n",
        "train_accuracy = tf.keras.metrics.SparseCategoricalAccuracy(name='train_accuracy')\n",
        "\n",
        "test_loss = tf.keras.metrics.Mean(name='test_loss')\n",
        "test_accuracy = tf.keras.metrics.SparseCategoricalAccuracy(name='test_accuracy')\n",
        "\n",
        "# Build the model\n",
        "WordRNN_model = WordRNN(vocab_size_word, HIDDEN_SIZE)"
      ],
      "execution_count": null,
      "outputs": []
    },
    {
      "cell_type": "markdown",
      "metadata": {
        "id": "WsSRiq6KHIXb"
      },
      "source": [
        "# Train Model"
      ]
    },
    {
      "cell_type": "code",
      "metadata": {
        "id": "WMft_X0JHIo_",
        "outputId": "4f6d48cf-c509-43d3-ac69-8a15c698142b",
        "colab": {
          "base_uri": "https://localhost:8080/"
        }
      },
      "source": [
        "test_acc_WordRNN = []\n",
        "train_acc_WordRNN = []\n",
        "test_loss_WordRNN = []\n",
        "train_loss_WordRNN = []\n",
        "wordRNN_timer = 0\n",
        "\n",
        "for epoch in range(no_epochs):\n",
        "    # Reset the metrics at the start of the next epoch\n",
        "    train_loss.reset_states()\n",
        "    train_accuracy.reset_states()\n",
        "    test_loss.reset_states()\n",
        "    test_accuracy.reset_states()\n",
        "\n",
        "    epoch_start_time = time.perf_counter()\n",
        "    \n",
        "    for images, labels in train_ds_word:\n",
        "        train_step_2(WordRNN_model, images, labels, drop_rate=0)\n",
        "\n",
        "    for images, labels in test_ds_word:\n",
        "        test_step_2(WordRNN_model, images, labels, drop_rate=0)\n",
        "\n",
        "    epoch_end_time = time.perf_counter()\n",
        "    wordRNN_timer = wordRNN_timer + epoch_end_time - epoch_start_time\n",
        "\n",
        "    test_acc_WordRNN.append(test_accuracy.result())\n",
        "    train_acc_WordRNN.append(train_accuracy.result())\n",
        "    test_loss_WordRNN.append(test_loss.result())\n",
        "    train_loss_WordRNN.append(train_loss.result())\n",
        "\n",
        "    if ( (epoch+1)%50 == 0 ): \n",
        "        print('[Epoch {}]'.format(epoch+1))\n",
        "        print('⏵Train Loss: {}'.format(train_loss.result()))\n",
        "        print('⏵Train Acc:  {}'.format(train_accuracy.result()))\n",
        "        print('⏵Test Loss:  {}'.format(test_loss.result()))\n",
        "        print('⏵Test Acc:   {}'.format(test_accuracy.result()))\n",
        "        print('')    \n",
        "\n",
        "print('Time Taken: {} seconds.'.format(wordRNN_timer))"
      ],
      "execution_count": null,
      "outputs": [
        {
          "output_type": "stream",
          "text": [
            "[Epoch 50]\n",
            "⏵Train Loss: 0.0003849453933071345\n",
            "⏵Train Acc:  1.0\n",
            "⏵Test Loss:  1.014735221862793\n",
            "⏵Test Acc:   0.8500000238418579\n",
            "\n",
            "[Epoch 100]\n",
            "⏵Train Loss: 7.124948024284095e-05\n",
            "⏵Train Acc:  1.0\n",
            "⏵Test Loss:  1.2385469675064087\n",
            "⏵Test Acc:   0.8385714292526245\n",
            "\n",
            "[Epoch 150]\n",
            "⏵Train Loss: 1.964236616913695e-05\n",
            "⏵Train Acc:  1.0\n",
            "⏵Test Loss:  1.4220705032348633\n",
            "⏵Test Acc:   0.831428587436676\n",
            "\n",
            "[Epoch 200]\n",
            "⏵Train Loss: 5.937612513662316e-06\n",
            "⏵Train Acc:  1.0\n",
            "⏵Test Loss:  1.5830788612365723\n",
            "⏵Test Acc:   0.8242856860160828\n",
            "\n",
            "[Epoch 250]\n",
            "⏵Train Loss: 1.8450024299454526e-06\n",
            "⏵Train Acc:  1.0\n",
            "⏵Test Loss:  1.7281213998794556\n",
            "⏵Test Acc:   0.8271428346633911\n",
            "\n",
            "Time Taken: 2492.656493055012 seconds.\n"
          ],
          "name": "stdout"
        }
      ]
    },
    {
      "cell_type": "code",
      "metadata": {
        "id": "rJeS9oV-QiHJ"
      },
      "source": [
        "instanced_variables = [test_acc_WordRNN, train_acc_WordRNN, test_loss_WordRNN, train_loss_WordRNN, wordRNN_timer]\n",
        "\n",
        "# create directory in your gdrive\n",
        "filename = f'/content/gdrive/My Drive/Colab Output/Part_B_Q4_WordRNN_variables'\n",
        "outfile = open(filename,'wb')\n",
        "pickle.dump(instanced_variables, outfile)\n",
        "outfile.close()"
      ],
      "execution_count": null,
      "outputs": []
    },
    {
      "cell_type": "code",
      "metadata": {
        "id": "TdUJgtF9Q0jy"
      },
      "source": [
        "# Retrieve previously saved instanced variables w/ pickle rick\n",
        "infile = open(f'/content/gdrive/My Drive/Colab Output/Part_B_Q4_WordRNN_variables', 'rb')\n",
        "retrieved_variables = pickle.load(infile)\n",
        "infile.close()\n",
        "\n",
        "# Load retrieved variables into instance variables for plotting\n",
        "test_acc_WordRNN, train_acc_WordRNN, test_loss_WordRNN, train_loss_WordRNN, wordRNN_timer = retrieved_variables"
      ],
      "execution_count": 2,
      "outputs": []
    },
    {
      "cell_type": "code",
      "metadata": {
        "id": "vuTi5y0p8LZY",
        "outputId": "c33de935-ddda-41e7-8162-abb212f195e9",
        "colab": {
          "base_uri": "https://localhost:8080/"
        }
      },
      "source": [
        "# get highest accuracy values\n",
        "highest_acc = max(test_acc_WordRNN)\n",
        "\n",
        "# get average accuracy\n",
        "average_acc = sum(test_acc_WordRNN)/len(test_acc_WordRNN)\n",
        "\n",
        "print('Highest Acc')\n",
        "print(highest_acc)\n",
        "\n",
        "print('')\n",
        "\n",
        "print('Avg Acc')\n",
        "print(average_acc)"
      ],
      "execution_count": 3,
      "outputs": [
        {
          "output_type": "stream",
          "text": [
            "Highest Acc\n",
            "tf.Tensor(0.86142856, shape=(), dtype=float32)\n",
            "\n",
            "Avg Acc\n",
            "tf.Tensor(0.8239936, shape=(), dtype=float32)\n"
          ],
          "name": "stdout"
        }
      ]
    },
    {
      "cell_type": "markdown",
      "metadata": {
        "id": "thsjPn4EIHPy"
      },
      "source": [
        "# Plot"
      ]
    },
    {
      "cell_type": "markdown",
      "metadata": {
        "id": "C2cVUrVpIHum"
      },
      "source": [
        "## Accuracy Plot"
      ]
    },
    {
      "cell_type": "code",
      "metadata": {
        "id": "h1a7aAFaIOpF",
        "outputId": "37c921de-a2cd-4ee1-ff6c-0f1bc2a01731",
        "colab": {
          "base_uri": "https://localhost:8080/",
          "height": 279
        }
      },
      "source": [
        "plt.plot(train_acc_WordRNN,label=\"Train accuracy\")\n",
        "plt.plot(test_acc_WordRNN,label=\"Test accuracy\")\n",
        "plt.ylabel(\"Accuracy\")\n",
        "plt.xlabel(\"Epochs\")\n",
        "plt.legend()\n",
        "plt.show()\n",
        "plt.close()"
      ],
      "execution_count": null,
      "outputs": [
        {
          "output_type": "display_data",
          "data": {
            "image/png": "[encoded data removed]",
            "text/plain": [
              "<Figure size 432x288 with 1 Axes>"
            ]
          },
          "metadata": {
            "tags": [],
            "needs_background": "light"
          }
        }
      ]
    },
    {
      "cell_type": "markdown",
      "metadata": {
        "id": "Xf-RSz7NIH1i"
      },
      "source": [
        "## Loss Plot"
      ]
    },
    {
      "cell_type": "code",
      "metadata": {
        "id": "74sfCY76IPG1",
        "outputId": "1a8cf4b4-057c-4fe6-8fd5-3000b15efa58",
        "colab": {
          "base_uri": "https://localhost:8080/",
          "height": 279
        }
      },
      "source": [
        "plt.plot(train_loss_WordRNN,label=\"Train loss\")\n",
        "plt.plot(test_loss_WordRNN,label=\"Test loss\")\n",
        "plt.ylabel(\"Loss\")\n",
        "plt.xlabel(\"Epochs\")\n",
        "plt.legend()\n",
        "plt.show()\n",
        "plt.close()"
      ],
      "execution_count": null,
      "outputs": [
        {
          "output_type": "display_data",
          "data": {
            "image/png": "[encoded data removed]",
            "text/plain": [
              "<Figure size 432x288 with 1 Axes>"
            ]
          },
          "metadata": {
            "tags": [],
            "needs_background": "light"
          }
        }
      ]
    },
    {
      "cell_type": "code",
      "metadata": {
        "id": "iFpSg2YtTgf6"
      },
      "source": [
        ""
      ],
      "execution_count": null,
      "outputs": []
    }
  ]
}