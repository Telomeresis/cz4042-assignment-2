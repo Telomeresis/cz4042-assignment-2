{
  "nbformat": 4,
  "nbformat_minor": 0,
  "metadata": {
    "colab": {
      "name": "Part_B_Q3_CharRNN.ipynb",
      "provenance": [],
      "collapsed_sections": []
    },
    "kernelspec": {
      "name": "python3",
      "display_name": "Python 3"
    },
    "accelerator": "GPU"
  },
  "cells": [
    {
      "cell_type": "code",
      "metadata": {
        "id": "9M-JYu5KHWgp",
        "outputId": "11ee5bbe-2fde-4e83-d310-ef8ef24a7c00",
        "colab": {
          "base_uri": "https://localhost:8080/"
        }
      },
      "source": [
        "# Import libraries\n",
        "import csv\n",
        "import re\n",
        "import pylab\n",
        "import time\n",
        "import collections\n",
        "import numpy as np\n",
        "import nltk\n",
        "import tensorflow as tf\n",
        "from nltk.tokenize import word_tokenize\n",
        "from tensorflow.keras import Model, layers\n",
        "from keras.utils.np_utils import to_categorical\n",
        "import matplotlib.pyplot as plt\n",
        "\n",
        "import pickle\n",
        "\n",
        "nltk.download('punkt')\n",
        "\n",
        "from google.colab import drive\n",
        "drive.mount('/content/gdrive')"
      ],
      "execution_count": 2,
      "outputs": [
        {
          "output_type": "stream",
          "text": [
            "[nltk_data] Downloading package punkt to /root/nltk_data...\n",
            "[nltk_data]   Unzipping tokenizers/punkt.zip.\n",
            "Mounted at /content/gdrive\n"
          ],
          "name": "stdout"
        }
      ]
    },
    {
      "cell_type": "code",
      "metadata": {
        "id": "_GkvmpmbIqcI",
        "outputId": "24177f7c-63c0-403a-f9cd-db37dabf8518",
        "colab": {
          "base_uri": "https://localhost:8080/"
        }
      },
      "source": [
        "# RTX On\n",
        "gpus = tf.config.experimental.list_physical_devices('GPU')\n",
        "if gpus:\n",
        "    try:\n",
        "        # Currently, memory growth needs to be the same across GPUs\n",
        "        for gpu in gpus:\n",
        "            tf.config.experimental.set_memory_growth(gpu, True)\n",
        "        logical_gpus = tf.config.experimental.list_logical_devices('GPU')\n",
        "        print(len(gpus), \"Physical GPUs,\", len(logical_gpus), \"Logical GPUs\")\n",
        "    except RuntimeError as e:\n",
        "        # Memory growth must be set before GPUs have been initialized\n",
        "        print(e)"
      ],
      "execution_count": 3,
      "outputs": [
        {
          "output_type": "stream",
          "text": [
            "1 Physical GPUs, 1 Logical GPUs\n"
          ],
          "name": "stdout"
        }
      ]
    },
    {
      "cell_type": "markdown",
      "metadata": {
        "id": "XfBAFji47kVe"
      },
      "source": [
        "# Variables"
      ]
    },
    {
      "cell_type": "code",
      "metadata": {
        "id": "3HQOz6Xx7jom"
      },
      "source": [
        "# Initialize variables to be used later\n",
        "MAX_DOCUMENT_LENGTH = 100\n",
        "N_FILTERS = 10\n",
        "FILTER_SHAPE1 = [20, 256]\n",
        "FILTER_SHAPE2= [20, 1]\n",
        "FILTER_SHAPE3 = [20, 20]\n",
        "POOLING_WINDOW = 4\n",
        "POOLING_STRIDE = 2\n",
        "MAX_LABEL = 15\n",
        " \n",
        "batch_size = 128\n",
        "one_hot_size = 256\n",
        "no_epochs = 250\n",
        "lr = 0.01\n",
        " \n",
        "seed = 10\n",
        "tf.random.set_seed(seed)"
      ],
      "execution_count": 4,
      "outputs": []
    },
    {
      "cell_type": "code",
      "metadata": {
        "id": "vCSprE_uV6HN"
      },
      "source": [
        "# Initialise variables for RNN\n",
        "HIDDEN_SIZE = 20"
      ],
      "execution_count": 5,
      "outputs": []
    },
    {
      "cell_type": "markdown",
      "metadata": {
        "id": "r4XTumQPKGDq"
      },
      "source": [
        "# Char Functions"
      ]
    },
    {
      "cell_type": "code",
      "metadata": {
        "id": "oA8iuqbGSQHG"
      },
      "source": [
        "#Define functions to be used later\n",
        "#Get all the unique characters used in the string supplied\n",
        "def vocabulary(strings):\n",
        "    chars = sorted(list(set(list(''.join(strings)))))\n",
        "    char_to_ix = { ch:i for i,ch in enumerate(chars) }\n",
        "    vocab_size = len(chars)\n",
        "    return vocab_size, char_to_ix\n",
        "\n",
        "#Preprocess strings and truncate if length longer than 100\n",
        "def preprocess(strings, char_to_ix, MAX_LENGTH):\n",
        "    data_chars = [list(d.lower()) for _, d in enumerate(strings)]\n",
        "    for i, d in enumerate(data_chars):\n",
        "        if len(d)>MAX_LENGTH:\n",
        "            d = d[:MAX_LENGTH]\n",
        "        elif len(d) < MAX_LENGTH:\n",
        "            d += [' '] * (MAX_LENGTH - len(d))\n",
        "            \n",
        "    data_ids = np.zeros([len(data_chars), MAX_LENGTH], dtype=np.int64)\n",
        "    for i in range(len(data_chars)):\n",
        "        for j in range(MAX_LENGTH):\n",
        "            data_ids[i, j] = char_to_ix[data_chars[i][j]]\n",
        "    return np.array(data_ids)\n",
        "\n",
        "#Read in the data in the train and test csv files\n",
        "def read_data_chars():\n",
        "    x_train, y_train, x_test, y_test = [], [], [], []\n",
        "    cop = re.compile(\"[^a-z^A-Z^0-9^,^.^' ']\")\n",
        "    with open('/content/gdrive/My Drive/Colab Notebooks/train_medium.csv', encoding='utf-8') as filex:\n",
        "        reader = csv.reader(filex)\n",
        "        for row in reader:\n",
        "            data = cop.sub(\"\", row[1])\n",
        "            x_train.append(data)\n",
        "            y_train.append(int(row[0]))\n",
        "\n",
        "    with open('/content/gdrive/My Drive/Colab Notebooks/test_medium.csv', encoding='utf-8') as filex:\n",
        "        reader = csv.reader(filex)\n",
        "        for row in reader:\n",
        "            data = cop.sub(\"\", row[1])\n",
        "            x_test.append(data)\n",
        "            y_test.append(int(row[0]))\n",
        "\n",
        "\n",
        "    vocab_size, char_to_ix = vocabulary(x_train+x_test)\n",
        "    x_train = preprocess(x_train, char_to_ix, MAX_DOCUMENT_LENGTH)\n",
        "    y_train = np.array(y_train)\n",
        "    x_test = preprocess(x_test, char_to_ix, MAX_DOCUMENT_LENGTH)\n",
        "    y_test = np.array(y_test)\n",
        "\n",
        "    x_train = tf.constant(x_train, dtype=tf.int64)\n",
        "    y_train = tf.constant(y_train, dtype=tf.int64)\n",
        "    x_test = tf.constant(x_test, dtype=tf.int64)\n",
        "    y_test = tf.constant(y_test, dtype=tf.int64)\n",
        "\n",
        "    return x_train, y_train, x_test, y_test\n",
        "\n",
        "\n",
        "x_train, y_train, x_test, y_test = read_data_chars()\n",
        "\n",
        "#Use `tf.data` to batch and shuffle the dataset:\n",
        "train_ds = tf.data.Dataset.from_tensor_slices(\n",
        "    (x_train, y_train)).shuffle(10000).batch(batch_size)\n",
        "test_ds = tf.data.Dataset.from_tensor_slices((x_test, y_test)).batch(batch_size)"
      ],
      "execution_count": 6,
      "outputs": []
    },
    {
      "cell_type": "markdown",
      "metadata": {
        "id": "Iq_-jhM1EM5N"
      },
      "source": [
        "# RNN Training & Testing Functions"
      ]
    },
    {
      "cell_type": "code",
      "metadata": {
        "id": "cZqnbPxcEUhu"
      },
      "source": [
        "def train_step_2(model, x, label, drop_rate):\n",
        "    with tf.GradientTape() as tape:\n",
        "        out = model(x, drop_rate)\n",
        "        loss = loss_object_2(label, out)\n",
        "        gradients = tape.gradient(loss, model.trainable_variables)\n",
        "        optimizer.apply_gradients(zip(gradients, model.trainable_variables))\n",
        "        \n",
        "    train_loss(loss)\n",
        "    train_accuracy(labels, out)\n",
        "\n",
        "# Testing function\n",
        "def test_step_2(model, x, label, drop_rate=0):\n",
        "    out = model(x,drop_rate)\n",
        "    t_loss = loss_object_2(label, out)\n",
        "    test_loss(t_loss)\n",
        "    test_accuracy(label, out)"
      ],
      "execution_count": 7,
      "outputs": []
    },
    {
      "cell_type": "markdown",
      "metadata": {
        "id": "RIPeIC48A7Bx"
      },
      "source": [
        "# Model Definition"
      ]
    },
    {
      "cell_type": "code",
      "metadata": {
        "id": "cD9gh4aTWIma"
      },
      "source": [
        "# Build model\n",
        "tf.keras.backend.set_floatx('float32')\n",
        "class CharRNN(Model):\n",
        "\n",
        "    def __init__(self, vocab_size=256, hidden_dim=10):\n",
        "        super(CharRNN, self).__init__()\n",
        "        self.vocab_size = vocab_size\n",
        "        self.hidden_dim = hidden_dim\n",
        "        \n",
        "        # Weight variables and RNN cell\n",
        "        self.rnn = layers.RNN(tf.keras.layers.GRUCell(self.hidden_dim), unroll=True)\n",
        "        self.dense = layers.Dense(MAX_LABEL, activation=None)\n",
        "\n",
        "    def call(self, x, drop_rate):\n",
        "        # forward logic\n",
        "        categorical_labels = to_categorical(x, self.vocab_size)\n",
        "        encoding = self.rnn(categorical_labels)\n",
        "        encoding = tf.nn.dropout(encoding, drop_rate)\n",
        "        logits = self.dense(encoding)\n",
        "    \n",
        "        return logits"
      ],
      "execution_count": 8,
      "outputs": []
    },
    {
      "cell_type": "code",
      "metadata": {
        "id": "NJQk9tfgBB-1"
      },
      "source": [
        "#Choose optimizer and loss function for training\n",
        "loss_object_2 = tf.keras.losses.SparseCategoricalCrossentropy(from_logits=True)\n",
        "optimizer = tf.keras.optimizers.Adam(learning_rate=lr)\n",
        "\n",
        "#Select metrics to measure the loss and the accuracy of the model. \n",
        "#These metrics accumulate the values over epochs and then print the overall result.\n",
        "train_loss = tf.keras.metrics.Mean(name='train_loss')\n",
        "train_accuracy = tf.keras.metrics.SparseCategoricalAccuracy(name='train_accuracy')\n",
        "\n",
        "test_loss = tf.keras.metrics.Mean(name='test_loss')\n",
        "test_accuracy = tf.keras.metrics.SparseCategoricalAccuracy(name='test_accuracy')\n",
        "\n",
        "# Build the model\n",
        "CharRNN_model = CharRNN(256, HIDDEN_SIZE)"
      ],
      "execution_count": 9,
      "outputs": []
    },
    {
      "cell_type": "markdown",
      "metadata": {
        "id": "05zlG7s5LJlq"
      },
      "source": [
        "# Train Model"
      ]
    },
    {
      "cell_type": "code",
      "metadata": {
        "id": "cuvYcdL_KAIL"
      },
      "source": [
        "test_acc_CharRNN = []\n",
        "train_acc_CharRNN = []\n",
        "test_loss_CharRNN = []\n",
        "train_loss_CharRNN = []\n",
        "charRNN_timer = 0\n",
        "\n",
        "for epoch in range(no_epochs):\n",
        "    # Reset the metrics at the start of the next epoch\n",
        "    train_loss.reset_states()\n",
        "    train_accuracy.reset_states()\n",
        "    test_loss.reset_states()\n",
        "    test_accuracy.reset_states()\n",
        "\n",
        "    epoch_start_time = time.perf_counter()\n",
        "    \n",
        "    for images, labels in train_ds:\n",
        "        train_step_2(CharRNN_model, images, labels, drop_rate=0)\n",
        "\n",
        "    for images, labels in test_ds:\n",
        "        test_step_2(CharRNN_model, images, labels, drop_rate=0)\n",
        "\n",
        "    epoch_end_time = time.perf_counter()\n",
        "    charRNN_timer = charRNN_timer + epoch_end_time - epoch_start_time\n",
        "    \n",
        "    test_acc_CharRNN.append(test_accuracy.result())\n",
        "    train_acc_CharRNN.append(train_accuracy.result())\n",
        "    test_loss_CharRNN.append(test_loss.result())\n",
        "    train_loss_CharRNN.append(train_loss.result())\n",
        "\n",
        "    if ( (epoch+1)%50 == 0 ): \n",
        "        print('[Epoch {}]'.format(epoch+1))\n",
        "        print('⏵Train Loss: {}'.format(train_loss.result()))\n",
        "        print('⏵Train Acc:  {}'.format(train_accuracy.result()))\n",
        "        print('⏵Test Loss:  {}'.format(test_loss.result()))\n",
        "        print('⏵Test Acc:   {}'.format(test_accuracy.result()))\n",
        "        print('')\n",
        "\n",
        "print('Time Taken: {} seconds.'.format(charRNN_timer))"
      ],
      "execution_count": null,
      "outputs": []
    },
    {
      "cell_type": "code",
      "metadata": {
        "id": "LIRG8EL0PFUd"
      },
      "source": [
        "instanced_variables = [test_acc_CharRNN, train_acc_CharRNN, test_loss_CharRNN, train_loss_CharRNN, charRNN_timer]\n",
        "\n",
        "# create directory in your gdrive\n",
        "filename = f'/content/gdrive/My Drive/Colab Output/Part_B_Q3_CharRNN_variables'\n",
        "outfile = open(filename,'wb')\n",
        "pickle.dump(instanced_variables, outfile)\n",
        "outfile.close()"
      ],
      "execution_count": null,
      "outputs": []
    },
    {
      "cell_type": "code",
      "metadata": {
        "id": "uPekctHSPgmA"
      },
      "source": [
        "# Retrieve previously saved instanced variables w/ pickle rick\n",
        "infile = open(f'/content/gdrive/My Drive/Colab Output/Part_B_Q3_CharRNN_variables', 'rb')\n",
        "retrieved_variables = pickle.load(infile)\n",
        "infile.close()\n",
        "\n",
        "# Load retrieved variables into instance variables for plotting\n",
        "test_acc_CharRNN, train_acc_CharRNN, test_loss_CharRNN, train_loss_CharRNN, charRNN_timer = retrieved_variables"
      ],
      "execution_count": 10,
      "outputs": []
    },
    {
      "cell_type": "code",
      "metadata": {
        "id": "HB3YmFYA7gcn",
        "outputId": "2b01b11e-d376-4602-ac48-5fce9dfadf61",
        "colab": {
          "base_uri": "https://localhost:8080/"
        }
      },
      "source": [
        "# get highest accuracy values\n",
        "highest_acc = max(test_acc_CharRNN)\n",
        "\n",
        "# get average accuracy\n",
        "average_acc = sum(test_acc_CharRNN)/len(test_acc_CharRNN)\n",
        "\n",
        "print('Highest Acc')\n",
        "print(highest_acc)\n",
        "\n",
        "print('')\n",
        "\n",
        "print('Avg Acc')\n",
        "print(average_acc)"
      ],
      "execution_count": 11,
      "outputs": [
        {
          "output_type": "stream",
          "text": [
            "Highest Acc\n",
            "tf.Tensor(0.71428573, shape=(), dtype=float32)\n",
            "\n",
            "Avg Acc\n",
            "tf.Tensor(0.67693716, shape=(), dtype=float32)\n"
          ],
          "name": "stdout"
        }
      ]
    },
    {
      "cell_type": "markdown",
      "metadata": {
        "id": "VcsiAtw9CSRE"
      },
      "source": [
        "# Plot"
      ]
    },
    {
      "cell_type": "markdown",
      "metadata": {
        "id": "U_nMalXoFATh"
      },
      "source": [
        "## Accuracy Plot"
      ]
    },
    {
      "cell_type": "code",
      "metadata": {
        "id": "RImJz5fKBakT",
        "outputId": "59c754c0-fba0-4f74-b303-8d4123d3797d",
        "colab": {
          "base_uri": "https://localhost:8080/",
          "height": 281
        }
      },
      "source": [
        "# Plot test accuracy\n",
        "plt.plot(train_acc_CharRNN,label=\"Train accuracy\")\n",
        "plt.plot(test_acc_CharRNN,label=\"Test accuracy\")\n",
        "plt.ylabel(\"Accuracy\")\n",
        "plt.xlabel(\"Epochs\")\n",
        "plt.legend()\n",
        "plt.show()\n",
        "plt.close()"
      ],
      "execution_count": null,
      "outputs": [
        {
          "output_type": "display_data",
          "data": {
            "image/png": "[encoded data removed]",
            "text/plain": [
              "<Figure size 432x288 with 1 Axes>"
            ]
          },
          "metadata": {
            "tags": [],
            "needs_background": "light"
          }
        }
      ]
    },
    {
      "cell_type": "markdown",
      "metadata": {
        "id": "ycrloGcM4Ifb"
      },
      "source": [
        ""
      ]
    },
    {
      "cell_type": "markdown",
      "metadata": {
        "id": "TyVRKPovFDYd"
      },
      "source": [
        "## Loss Plot"
      ]
    },
    {
      "cell_type": "code",
      "metadata": {
        "id": "K0E_B86zCHQm",
        "outputId": "41f3f107-529d-4dd8-b6e7-5c755e47e7cb",
        "colab": {
          "base_uri": "https://localhost:8080/",
          "height": 279
        }
      },
      "source": [
        "# Plot train accuracy\n",
        "plt.plot(train_loss_CharRNN,label=\"Train loss\")\n",
        "plt.plot(test_loss_CharRNN,label=\"Test loss\")\n",
        "plt.ylabel(\"Loss\")\n",
        "plt.xlabel(\"Epochs\")\n",
        "plt.legend()\n",
        "plt.show()\n",
        "plt.close()"
      ],
      "execution_count": null,
      "outputs": [
        {
          "output_type": "display_data",
          "data": {
            "image/png": "[encoded data removed]",
            "text/plain": [
              "<Figure size 432x288 with 1 Axes>"
            ]
          },
          "metadata": {
            "tags": [],
            "needs_background": "light"
          }
        }
      ]
    },
    {
      "cell_type": "code",
      "metadata": {
        "id": "ta_Y7MeYQKr8"
      },
      "source": [
        ""
      ],
      "execution_count": null,
      "outputs": []
    }
  ]
}