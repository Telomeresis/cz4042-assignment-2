{
  "nbformat": 4,
  "nbformat_minor": 0,
  "metadata": {
    "colab": {
      "name": "Part_B_Q6a_GRU_Replacement.ipynb",
      "provenance": [],
      "collapsed_sections": [
        "jmyFiTPLkqmb",
        "JE3u9IW8SRjY",
        "oQIOtG8-SSyU",
        "d-d60c0HSVoJ",
        "y763ornESgN-",
        "QWjX_yseSjZ2",
        "mak6iGQgk-hC",
        "tm5kfGPMlPy8",
        "eGB7ky3mo0Y7",
        "thsjPn4EIHPy",
        "C2cVUrVpIHum",
        "Xf-RSz7NIH1i"
      ]
    },
    "kernelspec": {
      "name": "python3",
      "display_name": "Python 3"
    },
    "accelerator": "GPU"
  },
  "cells": [
    {
      "cell_type": "markdown",
      "metadata": {
        "id": "KyrWpkXbkGHF"
      },
      "source": [
        "# Import Libraries"
      ]
    },
    {
      "cell_type": "code",
      "metadata": {
        "id": "Pnv2y2h6j7sc",
        "outputId": "67004124-79e8-4733-f576-18a6db5f225d",
        "colab": {
          "base_uri": "https://localhost:8080/"
        }
      },
      "source": [
        "import csv\n",
        "import re\n",
        "import pylab\n",
        "import time\n",
        "import collections\n",
        "import numpy as np\n",
        "import nltk\n",
        "nltk.download('punkt')\n",
        "import tensorflow as tf\n",
        "from nltk.tokenize import word_tokenize\n",
        "from tensorflow.keras import Model, layers\n",
        "from keras.utils.np_utils import to_categorical\n",
        "import matplotlib.pyplot as plt\n",
        "\n",
        "import pickle\n",
        "\n",
        "from google.colab import drive\n",
        "drive.mount('/content/gdrive')"
      ],
      "execution_count": 1,
      "outputs": [
        {
          "output_type": "stream",
          "text": [
            "[nltk_data] Downloading package punkt to /root/nltk_data...\n",
            "[nltk_data]   Unzipping tokenizers/punkt.zip.\n",
            "Mounted at /content/gdrive\n"
          ],
          "name": "stdout"
        }
      ]
    },
    {
      "cell_type": "markdown",
      "metadata": {
        "id": "jmyFiTPLkqmb"
      },
      "source": [
        "# Initialize Variables"
      ]
    },
    {
      "cell_type": "code",
      "metadata": {
        "id": "hu9e5TLfkEVp"
      },
      "source": [
        "#Initialise variables to be used later\n",
        "MAX_DOCUMENT_LENGTH = 100\n",
        "N_FILTERS = 10\n",
        "FILTER_SHAPE1 = [20, 256]\n",
        "FILTER_SHAPE2= [20, 1]\n",
        "FILTER_SHAPE3 = [20, 20]\n",
        "POOLING_WINDOW = 4\n",
        "POOLING_STRIDE = 2\n",
        "MAX_LABEL = 15\n",
        " \n",
        "batch_size = 128\n",
        "one_hot_size = 256\n",
        "no_epochs = 250\n",
        "lr = 0.01\n",
        " \n",
        "seed = 10\n",
        "tf.random.set_seed(seed)\n",
        "\n",
        "#Initialise variables for RNN\n",
        "HIDDEN_SIZE = 20"
      ],
      "execution_count": null,
      "outputs": []
    },
    {
      "cell_type": "code",
      "metadata": {
        "id": "_0T7QVeAkKY4"
      },
      "source": [
        "#Initialise additional needed variable\n",
        "EMBEDDING_SIZE = 20"
      ],
      "execution_count": null,
      "outputs": []
    },
    {
      "cell_type": "markdown",
      "metadata": {
        "id": "JE3u9IW8SRjY"
      },
      "source": [
        "# Pre-processing "
      ]
    },
    {
      "cell_type": "markdown",
      "metadata": {
        "id": "oQIOtG8-SSyU"
      },
      "source": [
        "## Char Preprocessing"
      ]
    },
    {
      "cell_type": "code",
      "metadata": {
        "id": "oO4YdZcMSZe5"
      },
      "source": [
        "#Define functions to be used later\n",
        "#Get all the unique characters used in the string supplied\n",
        "def vocabulary(strings):\n",
        "    chars = sorted(list(set(list(''.join(strings)))))\n",
        "    char_to_ix = { ch:i for i,ch in enumerate(chars) }\n",
        "    vocab_size = len(chars)\n",
        "    return vocab_size, char_to_ix\n",
        "\n",
        "#Preprocess strings and truncate if length longer than 100\n",
        "def preprocess(strings, char_to_ix, MAX_LENGTH):\n",
        "    data_chars = [list(d.lower()) for _, d in enumerate(strings)]\n",
        "    for i, d in enumerate(data_chars):\n",
        "        if len(d)>MAX_LENGTH:\n",
        "            d = d[:MAX_LENGTH]\n",
        "        elif len(d) < MAX_LENGTH:\n",
        "            d += [' '] * (MAX_LENGTH - len(d))\n",
        "            \n",
        "    data_ids = np.zeros([len(data_chars), MAX_LENGTH], dtype=np.int64)\n",
        "    for i in range(len(data_chars)):\n",
        "        for j in range(MAX_LENGTH):\n",
        "            data_ids[i, j] = char_to_ix[data_chars[i][j]]\n",
        "    return np.array(data_ids)\n",
        "\n",
        "#Read in the data in the train and test csv files\n",
        "def read_data_chars():\n",
        "    x_train, y_train, x_test, y_test = [], [], [], []\n",
        "    cop = re.compile(\"[^a-z^A-Z^0-9^,^.^' ']\")\n",
        "    with open('/content/gdrive/My Drive/Colab Notebooks/train_medium.csv', encoding='utf-8') as filex:\n",
        "        reader = csv.reader(filex)\n",
        "        for row in reader:\n",
        "            data = cop.sub(\"\", row[1])\n",
        "            x_train.append(data)\n",
        "            y_train.append(int(row[0]))\n",
        "\n",
        "    with open('/content/gdrive/My Drive/Colab Notebooks/test_medium.csv', encoding='utf-8') as filex:\n",
        "        reader = csv.reader(filex)\n",
        "        for row in reader:\n",
        "            data = cop.sub(\"\", row[1])\n",
        "            x_test.append(data)\n",
        "            y_test.append(int(row[0]))\n",
        "\n",
        "\n",
        "    vocab_size, char_to_ix = vocabulary(x_train+x_test)\n",
        "    x_train = preprocess(x_train, char_to_ix, MAX_DOCUMENT_LENGTH)\n",
        "    y_train = np.array(y_train)\n",
        "    x_test = preprocess(x_test, char_to_ix, MAX_DOCUMENT_LENGTH)\n",
        "    y_test = np.array(y_test)\n",
        "\n",
        "    x_train = tf.constant(x_train, dtype=tf.int64)\n",
        "    y_train = tf.constant(y_train, dtype=tf.int64)\n",
        "    x_test = tf.constant(x_test, dtype=tf.int64)\n",
        "    y_test = tf.constant(y_test, dtype=tf.int64)\n",
        "\n",
        "    return x_train, y_train, x_test, y_test\n",
        "\n",
        "\n",
        "x_train, y_train, x_test, y_test = read_data_chars()\n",
        "\n",
        "#Use `tf.data` to batch and shuffle the dataset:\n",
        "train_ds = tf.data.Dataset.from_tensor_slices(\n",
        "    (x_train, y_train)).shuffle(10000).batch(batch_size)\n",
        "test_ds = tf.data.Dataset.from_tensor_slices((x_test, y_test)).batch(batch_size)\n"
      ],
      "execution_count": null,
      "outputs": []
    },
    {
      "cell_type": "markdown",
      "metadata": {
        "id": "d-d60c0HSVoJ"
      },
      "source": [
        "## Word Preprocessing"
      ]
    },
    {
      "cell_type": "code",
      "metadata": {
        "id": "gKFb1UtOSNgv"
      },
      "source": [
        "#Define functions used for word classifier\n",
        "def clean_str(text):\n",
        "    text = re.sub(r\"[^A-Za-z0-9(),!?\\'\\`\\\"]\", \" \", text)\n",
        "    text = re.sub(r\"\\s{2,}\", \" \", text)\n",
        "    text = text.strip().lower()\n",
        "\n",
        "    return text\n",
        "\n",
        "\n",
        "def build_word_dict(contents):\n",
        "    words = list()\n",
        "    for content in contents:\n",
        "        for word in word_tokenize(clean_str(content)):\n",
        "            words.append(word)\n",
        "\n",
        "    word_counter = collections.Counter(words).most_common()\n",
        "    word_dict = dict()\n",
        "    word_dict[\"<pad>\"] = 0\n",
        "    word_dict[\"<unk>\"] = 1\n",
        "    word_dict[\"<eos>\"] = 2\n",
        "    for word, _ in word_counter:\n",
        "        word_dict[word] = len(word_dict)\n",
        "    return word_dict\n",
        "\n",
        "\n",
        "def preprocess(contents, word_dict, document_max_len):\n",
        "    x = list(map(lambda d: word_tokenize(clean_str(d)), contents))\n",
        "    x = list(map(lambda d: list(map(lambda w: word_dict.get(w, word_dict[\"<unk>\"]), d)), x))\n",
        "    x = list(map(lambda d: d + [word_dict[\"<eos>\"]], x))\n",
        "    x = list(map(lambda d: d[:document_max_len], x))\n",
        "    x = list(map(lambda d: d + (document_max_len - len(d)) * [word_dict[\"<pad>\"]], x))\n",
        "    return x\n",
        "\n",
        "\n",
        "def read_data_words():\n",
        "    x_train, y_train, x_test, y_test = [], [], [], []\n",
        "    cop = re.compile(\"[^a-z^A-Z^0-9^,^.^' ']\")\n",
        "    with open('/content/gdrive/My Drive/Colab Notebooks/train_medium.csv', encoding='utf-8') as filex:\n",
        "    #with open('train_medium.csv', encoding='utf-8') as filex:\n",
        "        reader = csv.reader(filex)\n",
        "        for row in reader:\n",
        "            data = cop.sub(\"\", row[1])\n",
        "            x_train.append(data)\n",
        "            y_train.append(int(row[0]))\n",
        "    with open('/content/gdrive/My Drive/Colab Notebooks/test_medium.csv', encoding='utf-8') as filex:   \n",
        "    #with open('test_medium.csv', encoding='utf-8') as filex:\n",
        "        reader = csv.reader(filex)\n",
        "        for row in reader:\n",
        "            data = cop.sub(\"\", row[1])\n",
        "            x_test.append(data)\n",
        "            y_test.append(int(row[0]))\n",
        "\n",
        "    word_dict = build_word_dict(x_train+x_test)\n",
        "    x_train = preprocess(x_train, word_dict, MAX_DOCUMENT_LENGTH)\n",
        "    y_train = np.array(y_train)\n",
        "    x_test = preprocess(x_test, word_dict, MAX_DOCUMENT_LENGTH)\n",
        "    y_test = np.array(y_test)\n",
        "\n",
        "    x_train = [x[:MAX_DOCUMENT_LENGTH] for x in x_train]\n",
        "    x_test = [x[:MAX_DOCUMENT_LENGTH] for x in x_test]\n",
        "    x_train = tf.constant(x_train, dtype=tf.int64)\n",
        "    y_train = tf.constant(y_train, dtype=tf.int64)\n",
        "    x_test = tf.constant(x_test, dtype=tf.int64)\n",
        "    y_test = tf.constant(y_test, dtype=tf.int64)\n",
        "\n",
        "    vocab_size = tf.get_static_value(tf.reduce_max(x_train))\n",
        "    vocab_size = max(vocab_size, tf.get_static_value(tf.reduce_max(x_test))) + 1\n",
        "    return x_train, y_train, x_test, y_test, vocab_size\n",
        "\n",
        "\n",
        "#Read in the dataset and vocab size\n",
        "x_train_word, y_train_word, x_test_word, y_test_word, vocab_size_word = read_data_words()\n",
        "\n",
        "# Use `tf.data` to batch and shuffle the dataset:\n",
        "train_ds_word = tf.data.Dataset.from_tensor_slices(\n",
        "    (x_train_word, y_train_word)).shuffle(10000).batch(batch_size)\n",
        "test_ds_word = tf.data.Dataset.from_tensor_slices((x_test_word, y_test_word)).batch(batch_size)"
      ],
      "execution_count": null,
      "outputs": []
    },
    {
      "cell_type": "code",
      "metadata": {
        "id": "YIVAyQTnk1mo"
      },
      "source": [
        ""
      ],
      "execution_count": null,
      "outputs": []
    },
    {
      "cell_type": "markdown",
      "metadata": {
        "id": "y763ornESgN-"
      },
      "source": [
        "# Training & Testing Step Functions"
      ]
    },
    {
      "cell_type": "markdown",
      "metadata": {
        "id": "QWjX_yseSjZ2"
      },
      "source": [
        "## T&T for RNNs"
      ]
    },
    {
      "cell_type": "code",
      "metadata": {
        "id": "OMsnwXi3SfmP"
      },
      "source": [
        "def train_step_2(model, x, label, drop_rate):\n",
        "    with tf.GradientTape() as tape:\n",
        "        out = model(x, drop_rate)\n",
        "        loss = loss_object_2(label, out)\n",
        "        gradients = tape.gradient(loss, model.trainable_variables)\n",
        "        optimizer.apply_gradients(zip(gradients, model.trainable_variables))\n",
        "        \n",
        "    train_loss(loss)\n",
        "    train_accuracy(labels, out)\n",
        "\n",
        "# Testing function\n",
        "def test_step_2(model, x, label, drop_rate=0):\n",
        "    out = model(x,drop_rate)\n",
        "    t_loss = loss_object_2(label, out)\n",
        "    test_loss(t_loss)\n",
        "    test_accuracy(label, out)"
      ],
      "execution_count": null,
      "outputs": []
    },
    {
      "cell_type": "markdown",
      "metadata": {
        "id": "mak6iGQgk-hC"
      },
      "source": [
        "# Modified CharRNN"
      ]
    },
    {
      "cell_type": "code",
      "metadata": {
        "id": "QzEOqJBYk_Fw"
      },
      "source": [
        "# Build model\n",
        "tf.keras.backend.set_floatx('float32')\n",
        "class CharRNN_Modded(Model):\n",
        "\n",
        "    def __init__(self, vocab_size=256, hidden_dim=10, layer_type='gru', n_layers=1):\n",
        "        super(CharRNN_Modded, self).__init__()\n",
        "        self.vocab_size = vocab_size\n",
        "        self.hidden_dim = hidden_dim\n",
        "        self.n_layers = n_layers\n",
        "        \n",
        "        # layer type for RNN\n",
        "        if layer_type == 'rnn':\n",
        "          layer_fn = layers.SimpleRNNCell\n",
        "        elif layer_type == 'gru':\n",
        "          layer_fn = layers.GRUCell\n",
        "        elif layer_type == 'lstm':\n",
        "          layer_fn = layers.LSTMCell\n",
        "\n",
        "        layer_stack = []\n",
        "        for i in range(self.n_layers):\n",
        "          layer_stack.append(layer_fn(self.hidden_dim))\n",
        "        layer_stack = layers.StackedRNNCells(layer_stack)\n",
        "\n",
        "        self.rnn = layers.RNN(layer_stack, unroll=True)\n",
        "        self.dense = layers.Dense(MAX_LABEL, activation=None)\n",
        "\n",
        "    def call(self, x, drop_rate):\n",
        "        # forward logic\n",
        "        categorical_labels = to_categorical(x, self.vocab_size)\n",
        "        encoding = self.rnn(categorical_labels)\n",
        "        encoding = tf.nn.dropout(encoding, drop_rate)\n",
        "        logits = self.dense(encoding)\n",
        "    \n",
        "        return logits"
      ],
      "execution_count": null,
      "outputs": []
    },
    {
      "cell_type": "markdown",
      "metadata": {
        "id": "tm5kfGPMlPy8"
      },
      "source": [
        "# Modified WordRNN"
      ]
    },
    {
      "cell_type": "code",
      "metadata": {
        "id": "dKH9mxudlNbT"
      },
      "source": [
        "# Build model\n",
        "tf.keras.backend.set_floatx('float32')\n",
        "class WordRNN_Modded(Model):\n",
        "\n",
        "    def __init__(self, vocab_size, hidden_dim=10, layer_type='gru', n_layers=1):\n",
        "        super(WordRNN_Modded, self).__init__()\n",
        "        self.hidden_dim = hidden_dim\n",
        "        self.vocab_size = vocab_size\n",
        "        self.embedding = layers.Embedding(vocab_size, EMBEDDING_SIZE, input_length=MAX_DOCUMENT_LENGTH)\n",
        "        #The number of RNN layers to be used\n",
        "        self.n_layers = n_layers\n",
        "        \n",
        "       # layer type for RNN\n",
        "        if layer_type == 'rnn':\n",
        "          layer_funct = layers.SimpleRNNCell\n",
        "        elif layer_type == 'gru':\n",
        "          layer_funct = layers.GRUCell\n",
        "        elif layer_type == 'lstm':\n",
        "          layer_funct = layers.LSTMCell\n",
        "\n",
        "        layer_stack = []\n",
        "        for i in range(self.n_layers):\n",
        "          layer_stack.append(layer_funct(self.hidden_dim))\n",
        "        layer_stack = layers.StackedRNNCells(layer_stack)\n",
        "\n",
        "        self.rnn = layers.RNN(layer_stack, unroll=True)\n",
        "        self.dense = layers.Dense(MAX_LABEL, activation=None)\n",
        "\n",
        "    def call(self, x, drop_rate):\n",
        "        # forward logic\n",
        "        embedding = self.embedding(x)\n",
        "        encoding = self.rnn(embedding)\n",
        "        encoding = tf.nn.dropout(encoding, drop_rate)\n",
        "        logits = self.dense(encoding)\n",
        "    \n",
        "        return logits "
      ],
      "execution_count": null,
      "outputs": []
    },
    {
      "cell_type": "markdown",
      "metadata": {
        "id": "8mpdfP5Bl_F7"
      },
      "source": [
        "# Train GRU Layer -> Vanilla RNN (CharRNN)"
      ]
    },
    {
      "cell_type": "code",
      "metadata": {
        "id": "FrqFX_5imC3X",
        "outputId": "4abc539b-567f-4469-8bab-b6c7a77b43c7",
        "colab": {
          "base_uri": "https://localhost:8080/"
        }
      },
      "source": [
        "#Choose optimizer and loss function for training\n",
        "loss_object_2 = tf.keras.losses.SparseCategoricalCrossentropy(from_logits=True)\n",
        "optimizer = tf.keras.optimizers.Adam(learning_rate=lr)\n",
        "\n",
        "#Select metrics to measure the loss and the accuracy of the model. \n",
        "#These metrics accumulate the values over epochs and then print the overall result.\n",
        "train_loss = tf.keras.metrics.Mean(name='train_loss')\n",
        "train_accuracy = tf.keras.metrics.SparseCategoricalAccuracy(name='train_accuracy')\n",
        "\n",
        "test_loss = tf.keras.metrics.Mean(name='test_loss')\n",
        "test_accuracy = tf.keras.metrics.SparseCategoricalAccuracy(name='test_accuracy')\n",
        "\n",
        "\n",
        "test_acc_CharRNN_vanilla = []\n",
        "train_acc_CharRNN_vanilla = []\n",
        "test_loss_CharRNN_vanilla = []\n",
        "train_loss_CharRNN_vanilla = []\n",
        "\n",
        "\n",
        "charRNN_vanilla_timer = 0\n",
        "\n",
        "CharRNN_vanilla_model = CharRNN_Modded(256, HIDDEN_SIZE, 'rnn', 1)\n",
        "\n",
        "for epoch in range(no_epochs):\n",
        "    # Reset the metrics at the start of the next epoch\n",
        "    train_loss.reset_states()\n",
        "    train_accuracy.reset_states()\n",
        "    test_loss.reset_states()\n",
        "    test_accuracy.reset_states()\n",
        "\n",
        "    epoch_start_time = time.perf_counter()\n",
        "    \n",
        "    for images, labels in train_ds:\n",
        "        train_step_2(CharRNN_vanilla_model, images, labels, drop_rate=0)\n",
        "\n",
        "    for images, labels in test_ds:\n",
        "        test_step_2(CharRNN_vanilla_model, images, labels, drop_rate=0)\n",
        "\n",
        "    epoch_end_time = time.perf_counter()\n",
        "    charRNN_vanilla_timer = charRNN_vanilla_timer + epoch_end_time - epoch_start_time\n",
        "    \n",
        "    test_acc_CharRNN_vanilla.append(test_accuracy.result())\n",
        "    train_acc_CharRNN_vanilla.append(train_accuracy.result())\n",
        "    test_loss_CharRNN_vanilla.append(test_loss.result())\n",
        "    train_loss_CharRNN_vanilla.append(train_loss.result())\n",
        "\n",
        "    if ( (epoch+1)%50 == 0 ): \n",
        "        print('[Epoch {}]'.format(epoch+1))\n",
        "        print('⏵Train Loss: {}'.format(train_loss.result()))\n",
        "        print('⏵Train Acc:  {}'.format(train_accuracy.result()))\n",
        "        print('⏵Test Loss:  {}'.format(test_loss.result()))\n",
        "        print('⏵Test Acc:   {}'.format(test_accuracy.result()))\n",
        "        print('')\n",
        "\n",
        "print('Time Taken: {} seconds.'.format(charRNN_vanilla_timer))"
      ],
      "execution_count": null,
      "outputs": [
        {
          "output_type": "stream",
          "text": [
            "[Epoch 50]\n",
            "⏵Train Loss: 2.566678524017334\n",
            "⏵Train Acc:  0.12089285999536514\n",
            "⏵Test Loss:  2.669517755508423\n",
            "⏵Test Acc:   0.09285714477300644\n",
            "\n",
            "[Epoch 100]\n",
            "⏵Train Loss: 2.63527512550354\n",
            "⏵Train Acc:  0.09375\n",
            "⏵Test Loss:  2.633887529373169\n",
            "⏵Test Acc:   0.09285714477300644\n",
            "\n",
            "[Epoch 150]\n",
            "⏵Train Loss: 2.618748903274536\n",
            "⏵Train Acc:  0.09607142955064774\n",
            "⏵Test Loss:  2.630173444747925\n",
            "⏵Test Acc:   0.10285714268684387\n",
            "\n",
            "[Epoch 200]\n",
            "⏵Train Loss: 2.59212064743042\n",
            "⏵Train Acc:  0.11428571492433548\n",
            "⏵Test Loss:  2.652935743331909\n",
            "⏵Test Acc:   0.09857142716646194\n",
            "\n",
            "[Epoch 250]\n",
            "⏵Train Loss: 2.644899606704712\n",
            "⏵Train Acc:  0.08696428686380386\n",
            "⏵Test Loss:  2.657703161239624\n",
            "⏵Test Acc:   0.07571428269147873\n",
            "\n",
            "Time Taken: 1181.3822423139995 seconds.\n"
          ],
          "name": "stdout"
        }
      ]
    },
    {
      "cell_type": "markdown",
      "metadata": {
        "id": "fiCnqVv0nB3p"
      },
      "source": [
        "## Pickle Dump"
      ]
    },
    {
      "cell_type": "code",
      "metadata": {
        "id": "vQ0EwmuQnAxF"
      },
      "source": [
        "instanced_variables = [test_acc_CharRNN_vanilla, train_acc_CharRNN_vanilla, test_loss_CharRNN_vanilla, train_loss_CharRNN_vanilla, charRNN_vanilla_timer]\n",
        "\n",
        "# create directory in your gdrive\n",
        "filename = f'/content/gdrive/My Drive/Colab Output/Part_B_Q6a_i_Vanilla_CharRNN_variables'\n",
        "outfile = open(filename,'wb')\n",
        "pickle.dump(instanced_variables, outfile)\n",
        "outfile.close()"
      ],
      "execution_count": null,
      "outputs": []
    },
    {
      "cell_type": "code",
      "metadata": {
        "id": "oe1lDT3vBUzl"
      },
      "source": [
        "# Retrieve previously saved instanced variables w/ pickle rick\n",
        "infile = open(f'/content/gdrive/My Drive/Colab Output/Part_B_Q6a_i_Vanilla_CharRNN_variables', 'rb')\n",
        "retrieved_variables = pickle.load(infile)\n",
        "infile.close()\n",
        "\n",
        "# Load retrieved variables into instance variables for plotting\n",
        "test_acc_CharRNN_vanilla, train_acc_CharRNN_vanilla, test_loss_CharRNN_vanilla, train_loss_CharRNN_vanilla, charRNN_vanilla_timer = retrieved_variables"
      ],
      "execution_count": 3,
      "outputs": []
    },
    {
      "cell_type": "code",
      "metadata": {
        "id": "wJNEt1snBcrx",
        "outputId": "f0589489-200e-4a50-9dd8-8c3c4d691b88",
        "colab": {
          "base_uri": "https://localhost:8080/"
        }
      },
      "source": [
        "# get highest accuracy values\n",
        "highest_acc = max(test_acc_CharRNN_vanilla)\n",
        "\n",
        "# get average accuracy\n",
        "average_acc = sum(test_acc_CharRNN_vanilla)/len(test_acc_CharRNN_vanilla)\n",
        "\n",
        "print('Highest Acc')\n",
        "print(highest_acc)\n",
        "\n",
        "print('')\n",
        "\n",
        "print('Avg Acc')\n",
        "print(average_acc)"
      ],
      "execution_count": 5,
      "outputs": [
        {
          "output_type": "stream",
          "text": [
            "Highest Acc\n",
            "tf.Tensor(0.14285715, shape=(), dtype=float32)\n",
            "\n",
            "Avg Acc\n",
            "tf.Tensor(0.10025729, shape=(), dtype=float32)\n"
          ],
          "name": "stdout"
        }
      ]
    },
    {
      "cell_type": "markdown",
      "metadata": {
        "id": "eGB7ky3mo0Y7"
      },
      "source": [
        "## Plot"
      ]
    },
    {
      "cell_type": "code",
      "metadata": {
        "id": "F4ggjJZDo0ZF",
        "outputId": "880eadcf-abfa-4193-c0de-ba5fc0e2eaf8",
        "colab": {
          "base_uri": "https://localhost:8080/"
        }
      },
      "source": [
        "plt.plot(train_acc_CharRNN_vanilla,label=\"Train accuracy\")\n",
        "plt.plot(test_acc_CharRNN_vanilla,label=\"Test accuracy\")\n",
        "plt.ylabel(\"Accuracy\")\n",
        "plt.xlabel(\"Epochs\")\n",
        "plt.legend()\n",
        "plt.show()\n",
        "plt.close()"
      ],
      "execution_count": null,
      "outputs": [
        {
          "output_type": "display_data",
          "data": {
            "image/png": "[encoded data removed]",
            "text/plain": [
              "<Figure size 432x288 with 1 Axes>"
            ]
          },
          "metadata": {
            "tags": [],
            "needs_background": "light"
          }
        }
      ]
    },
    {
      "cell_type": "code",
      "metadata": {
        "id": "13FLwaqYo0ZP",
        "outputId": "562c85f9-f920-489f-f3e9-2cf0425165c9",
        "colab": {
          "base_uri": "https://localhost:8080/"
        }
      },
      "source": [
        "plt.plot(train_loss_CharRNN_vanilla,label=\"Train loss\")\n",
        "plt.plot(test_loss_CharRNN_vanilla,label=\"Test loss\")\n",
        "plt.ylabel(\"Loss\")\n",
        "plt.xlabel(\"Epochs\")\n",
        "plt.legend()\n",
        "plt.show()\n",
        "plt.close()"
      ],
      "execution_count": null,
      "outputs": [
        {
          "output_type": "display_data",
          "data": {
            "image/png": "[encoded data removed]",
            "text/plain": [
              "<Figure size 432x288 with 1 Axes>"
            ]
          },
          "metadata": {
            "tags": [],
            "needs_background": "light"
          }
        }
      ]
    },
    {
      "cell_type": "markdown",
      "metadata": {
        "id": "24swvYximOhO"
      },
      "source": [
        "# Train GRU Layer -> Vanilla RNN (WordRNN)"
      ]
    },
    {
      "cell_type": "code",
      "metadata": {
        "id": "pAjyVbanmI-n",
        "outputId": "e3a46534-c67e-4835-d4a0-6b390bbfe588",
        "colab": {
          "base_uri": "https://localhost:8080/"
        }
      },
      "source": [
        "#Choose optimizer and loss function for training\n",
        "loss_object_2 = tf.keras.losses.SparseCategoricalCrossentropy(from_logits=True)\n",
        "optimizer = tf.keras.optimizers.Adam(learning_rate=lr)\n",
        "\n",
        "#Select metrics to measure the loss and the accuracy of the model. \n",
        "#These metrics accumulate the values over epochs and then print the overall result.\n",
        "train_loss = tf.keras.metrics.Mean(name='train_loss')\n",
        "train_accuracy = tf.keras.metrics.SparseCategoricalAccuracy(name='train_accuracy')\n",
        "\n",
        "test_loss = tf.keras.metrics.Mean(name='test_loss')\n",
        "test_accuracy = tf.keras.metrics.SparseCategoricalAccuracy(name='test_accuracy')\n",
        "\n",
        "test_acc_WordRNN_vanilla = []\n",
        "train_acc_WordRNN_vanilla= []\n",
        "test_loss_WordRNN_vanilla= []\n",
        "train_loss_WordRNN_vanilla= []\n",
        "\n",
        "wordRNN_vanilla_timer = 0\n",
        "\n",
        "WordRNN_vanilla_model = WordRNN_Modded(vocab_size_word, HIDDEN_SIZE, 'rnn', 1)\n",
        "\n",
        "for epoch in range(no_epochs):\n",
        "    # Reset the metrics at the start of the next epoch\n",
        "    train_loss.reset_states()\n",
        "    train_accuracy.reset_states()\n",
        "    test_loss.reset_states()\n",
        "    test_accuracy.reset_states()\n",
        "\n",
        "    epoch_start_time = time.perf_counter()\n",
        "    \n",
        "    for images, labels in train_ds_word:\n",
        "        train_step_2(WordRNN_vanilla_model, images, labels, drop_rate=0)\n",
        "\n",
        "    for images, labels in test_ds_word:\n",
        "        test_step_2(WordRNN_vanilla_model, images, labels, drop_rate=0)\n",
        "\n",
        "    epoch_end_time = time.perf_counter()\n",
        "    wordRNN_vanilla_timer = wordRNN_vanilla_timer + epoch_end_time - epoch_start_time\n",
        "\n",
        "    test_acc_WordRNN_vanilla.append(test_accuracy.result())\n",
        "    train_acc_WordRNN_vanilla.append(train_accuracy.result())\n",
        "    test_loss_WordRNN_vanilla.append(test_loss.result())\n",
        "    train_loss_WordRNN_vanilla.append(train_loss.result())\n",
        "\n",
        "    if ( (epoch+1)%50 == 0 ): \n",
        "        print('[Epoch {}]'.format(epoch+1))\n",
        "        print('⏵Train Loss: {}'.format(train_loss.result()))\n",
        "        print('⏵Train Acc:  {}'.format(train_accuracy.result()))\n",
        "        print('⏵Test Loss:  {}'.format(test_loss.result()))\n",
        "        print('⏵Test Acc:   {}'.format(test_accuracy.result()))\n",
        "        print('')\n",
        "\n",
        "print('Time Taken: {} seconds.'.format(wordRNN_vanilla_timer))"
      ],
      "execution_count": null,
      "outputs": [
        {
          "output_type": "stream",
          "text": [
            "[Epoch 50]\n",
            "⏵Train Loss: 2.6499922275543213\n",
            "⏵Train Acc:  0.07374999672174454\n",
            "⏵Test Loss:  2.65081787109375\n",
            "⏵Test Acc:   0.07285714149475098\n",
            "\n",
            "[Epoch 100]\n",
            "⏵Train Loss: 2.6425344944000244\n",
            "⏵Train Acc:  0.08535714447498322\n",
            "⏵Test Loss:  2.653923749923706\n",
            "⏵Test Acc:   0.07999999821186066\n",
            "\n",
            "[Epoch 150]\n",
            "⏵Train Loss: 2.646960735321045\n",
            "⏵Train Acc:  0.06624999642372131\n",
            "⏵Test Loss:  2.6501710414886475\n",
            "⏵Test Acc:   0.07428571581840515\n",
            "\n",
            "[Epoch 200]\n",
            "⏵Train Loss: 2.6423709392547607\n",
            "⏵Train Acc:  0.08285713940858841\n",
            "⏵Test Loss:  2.674856424331665\n",
            "⏵Test Acc:   0.06142857298254967\n",
            "\n",
            "[Epoch 250]\n",
            "⏵Train Loss: 2.6390116214752197\n",
            "⏵Train Acc:  0.07660714536905289\n",
            "⏵Test Loss:  2.642400026321411\n",
            "⏵Test Acc:   0.06714285910129547\n",
            "\n",
            "Time Taken: 1308.1215742369986 seconds.\n"
          ],
          "name": "stdout"
        }
      ]
    },
    {
      "cell_type": "markdown",
      "metadata": {
        "id": "5ISObmpfnj2M"
      },
      "source": [
        "## Pickle Dump"
      ]
    },
    {
      "cell_type": "code",
      "metadata": {
        "id": "OOIZrag8njZr"
      },
      "source": [
        "instanced_variables = [test_acc_WordRNN_vanilla, train_acc_WordRNN_vanilla, test_loss_WordRNN_vanilla, train_loss_WordRNN_vanilla, wordRNN_vanilla_timer]\n",
        "\n",
        "# create directory in your gdrive\n",
        "filename = f'/content/gdrive/My Drive/Colab Output/Part_B_Q6a_i_Vanilla_WordRNN_variables'\n",
        "outfile = open(filename,'wb')\n",
        "pickle.dump(instanced_variables, outfile)\n",
        "outfile.close()"
      ],
      "execution_count": null,
      "outputs": []
    },
    {
      "cell_type": "code",
      "metadata": {
        "id": "FOkPuzOUC2eK"
      },
      "source": [
        "# Retrieve previously saved instanced variables w/ pickle rick\n",
        "infile = open(f'/content/gdrive/My Drive/Colab Output/Part_B_Q6a_i_Vanilla_WordRNN_variables', 'rb')\n",
        "retrieved_variables = pickle.load(infile)\n",
        "infile.close()\n",
        "\n",
        "# Load retrieved variables into instance variables for plotting\n",
        "test_acc_WordRNN_vanilla, train_acc_WordRNN_vanilla, test_loss_WordRNN_vanilla, train_loss_WordRNN_vanilla, wordRNN_vanilla_timer = retrieved_variables"
      ],
      "execution_count": 6,
      "outputs": []
    },
    {
      "cell_type": "code",
      "metadata": {
        "id": "UbeDMGJdDpaz",
        "outputId": "0bfa1f4b-a676-46e0-eb85-89a147ae46b6",
        "colab": {
          "base_uri": "https://localhost:8080/"
        }
      },
      "source": [
        "# get highest accuracy values\n",
        "highest_acc = max(test_acc_WordRNN_vanilla)\n",
        "\n",
        "# get average accuracy\n",
        "average_acc = sum(test_acc_WordRNN_vanilla)/len(test_acc_WordRNN_vanilla)\n",
        "\n",
        "print('Highest Acc')\n",
        "print(highest_acc)\n",
        "\n",
        "print('')\n",
        "\n",
        "print('Avg Acc')\n",
        "print(average_acc)"
      ],
      "execution_count": 7,
      "outputs": [
        {
          "output_type": "stream",
          "text": [
            "Highest Acc\n",
            "tf.Tensor(0.09714286, shape=(), dtype=float32)\n",
            "\n",
            "Avg Acc\n",
            "tf.Tensor(0.07354845, shape=(), dtype=float32)\n"
          ],
          "name": "stdout"
        }
      ]
    },
    {
      "cell_type": "markdown",
      "metadata": {
        "id": "E18OHWZEoc80"
      },
      "source": [
        "## Plot"
      ]
    },
    {
      "cell_type": "code",
      "metadata": {
        "id": "H2rKnurMn62v",
        "outputId": "c43d9c04-48d1-474f-d5a8-2b41c25762a1",
        "colab": {
          "base_uri": "https://localhost:8080/",
          "height": 279
        }
      },
      "source": [
        "plt.plot(train_acc_WordRNN_vanilla,label=\"Train accuracy\")\n",
        "plt.plot(test_acc_WordRNN_vanilla,label=\"Test accuracy\")\n",
        "plt.ylabel(\"Accuracy\")\n",
        "plt.xlabel(\"Epochs\")\n",
        "plt.legend()\n",
        "plt.show()\n",
        "plt.close()"
      ],
      "execution_count": null,
      "outputs": [
        {
          "output_type": "display_data",
          "data": {
            "image/png": "[encoded data removed]",
            "text/plain": [
              "<Figure size 432x288 with 1 Axes>"
            ]
          },
          "metadata": {
            "tags": [],
            "needs_background": "light"
          }
        }
      ]
    },
    {
      "cell_type": "code",
      "metadata": {
        "id": "F497zPFpn7YJ",
        "outputId": "4b0cfee1-85c6-4b65-e8e8-08855ef8cccb",
        "colab": {
          "base_uri": "https://localhost:8080/",
          "height": 279
        }
      },
      "source": [
        "plt.plot(train_loss_WordRNN_vanilla,label=\"Train loss\")\n",
        "plt.plot(test_loss_WordRNN_vanilla,label=\"Test loss\")\n",
        "plt.ylabel(\"Loss\")\n",
        "plt.xlabel(\"Epochs\")\n",
        "plt.legend()\n",
        "plt.show()\n",
        "plt.close()"
      ],
      "execution_count": null,
      "outputs": [
        {
          "output_type": "display_data",
          "data": {
            "image/png": "[encoded data removed]",
            "text/plain": [
              "<Figure size 432x288 with 1 Axes>"
            ]
          },
          "metadata": {
            "tags": [],
            "needs_background": "light"
          }
        }
      ]
    },
    {
      "cell_type": "markdown",
      "metadata": {
        "id": "jNQ_DgcPpJgt"
      },
      "source": [
        "# Train GRU Layer -> LTSM (CharRNN)"
      ]
    },
    {
      "cell_type": "code",
      "metadata": {
        "id": "q5ybIotcpNQZ",
        "outputId": "f2dc5c27-27a5-4769-f1e7-d2491915ef46",
        "colab": {
          "base_uri": "https://localhost:8080/"
        }
      },
      "source": [
        "#Choose optimizer and loss function for training\n",
        "loss_object_2 = tf.keras.losses.SparseCategoricalCrossentropy(from_logits=True)\n",
        "optimizer = tf.keras.optimizers.Adam(learning_rate=lr)\n",
        "\n",
        "#Select metrics to measure the loss and the accuracy of the model. \n",
        "#These metrics accumulate the values over epochs and then print the overall result.\n",
        "train_loss = tf.keras.metrics.Mean(name='train_loss')\n",
        "train_accuracy = tf.keras.metrics.SparseCategoricalAccuracy(name='train_accuracy')\n",
        "\n",
        "test_loss = tf.keras.metrics.Mean(name='test_loss')\n",
        "test_accuracy = tf.keras.metrics.SparseCategoricalAccuracy(name='test_accuracy')\n",
        "\n",
        "\n",
        "test_acc_CharRNN_LSTM = []\n",
        "train_acc_CharRNN_LSTM = []\n",
        "test_loss_CharRNN_LSTM = []\n",
        "train_loss_CharRNN_LSTM = []\n",
        "\n",
        "\n",
        "charRNN_LSTM_timer = 0\n",
        "\n",
        "CharRNN_LSTM_model = CharRNN_Modded(256, HIDDEN_SIZE, 'lstm', 1)\n",
        "\n",
        "for epoch in range(no_epochs):\n",
        "    # Reset the metrics at the start of the next epoch\n",
        "    train_loss.reset_states()\n",
        "    train_accuracy.reset_states()\n",
        "    test_loss.reset_states()\n",
        "    test_accuracy.reset_states()\n",
        "\n",
        "    epoch_start_time = time.perf_counter()\n",
        "    \n",
        "    for images, labels in train_ds:\n",
        "        train_step_2(CharRNN_LSTM_model, images, labels, drop_rate=0)\n",
        "\n",
        "    for images, labels in test_ds:\n",
        "        test_step_2(CharRNN_LSTM_model, images, labels, drop_rate=0)\n",
        "\n",
        "    epoch_end_time = time.perf_counter()\n",
        "    charRNN_LSTM_timer = charRNN_LSTM_timer + epoch_end_time - epoch_start_time\n",
        "    \n",
        "    test_acc_CharRNN_LSTM.append(test_accuracy.result())\n",
        "    train_acc_CharRNN_LSTM.append(train_accuracy.result())\n",
        "    test_loss_CharRNN_LSTM.append(test_loss.result())\n",
        "    train_loss_CharRNN_LSTM.append(train_loss.result())\n",
        "\n",
        "    if ( (epoch+1)%50 == 0 ): \n",
        "        print('[Epoch {}]'.format(epoch+1))\n",
        "        print('⏵Train Loss: {}'.format(train_loss.result()))\n",
        "        print('⏵Train Acc:  {}'.format(train_accuracy.result()))\n",
        "        print('⏵Test Loss:  {}'.format(test_loss.result()))\n",
        "        print('⏵Test Acc:   {}'.format(test_accuracy.result()))\n",
        "        print('')\n",
        "\n",
        "print('Time Taken: {} seconds.'.format(charRNN_LSTM_timer))"
      ],
      "execution_count": null,
      "outputs": [
        {
          "output_type": "stream",
          "text": [
            "[Epoch 50]\n",
            "⏵Train Loss: 1.2771662473678589\n",
            "⏵Train Acc:  0.5653571486473083\n",
            "⏵Test Loss:  1.3759642839431763\n",
            "⏵Test Acc:   0.545714259147644\n",
            "\n",
            "[Epoch 100]\n",
            "⏵Train Loss: 0.6281211376190186\n",
            "⏵Train Acc:  0.7862499952316284\n",
            "⏵Test Loss:  1.2093530893325806\n",
            "⏵Test Acc:   0.6499999761581421\n",
            "\n",
            "[Epoch 150]\n",
            "⏵Train Loss: 0.4007281959056854\n",
            "⏵Train Acc:  0.8753571510314941\n",
            "⏵Test Loss:  1.3680835962295532\n",
            "⏵Test Acc:   0.677142858505249\n",
            "\n",
            "[Epoch 200]\n",
            "⏵Train Loss: 0.32210227847099304\n",
            "⏵Train Acc:  0.8949999809265137\n",
            "⏵Test Loss:  1.5350791215896606\n",
            "⏵Test Acc:   0.6742857098579407\n",
            "\n",
            "[Epoch 250]\n",
            "⏵Train Loss: 0.22164835035800934\n",
            "⏵Train Acc:  0.9330357313156128\n",
            "⏵Test Loss:  1.5905812978744507\n",
            "⏵Test Acc:   0.6700000166893005\n",
            "\n",
            "Time Taken: 2075.9529820139996 seconds.\n"
          ],
          "name": "stdout"
        }
      ]
    },
    {
      "cell_type": "markdown",
      "metadata": {
        "id": "sXfSS7mApibi"
      },
      "source": [
        "## Pickle"
      ]
    },
    {
      "cell_type": "code",
      "metadata": {
        "id": "Q2DSKQsHphe5"
      },
      "source": [
        "instanced_variables = [test_acc_CharRNN_LSTM, train_acc_CharRNN_LSTM, test_loss_CharRNN_LSTM, train_loss_CharRNN_LSTM, charRNN_LSTM_timer]\n",
        "\n",
        "\n",
        "# create directory in your gdrive\n",
        "filename = f'/content/gdrive/My Drive/Colab Output/Part_B_Q6a_ii_LSTM_CharRNN_variables'\n",
        "outfile = open(filename,'wb')\n",
        "pickle.dump(instanced_variables, outfile)\n",
        "outfile.close()"
      ],
      "execution_count": null,
      "outputs": []
    },
    {
      "cell_type": "code",
      "metadata": {
        "id": "skVB1-uMD6Hm"
      },
      "source": [
        "# Retrieve previously saved instanced variables w/ pickle rick\n",
        "infile = open(f'/content/gdrive/My Drive/Colab Output/Part_B_Q6a_ii_LSTM_CharRNN_variables', 'rb')\n",
        "retrieved_variables = pickle.load(infile)\n",
        "infile.close()\n",
        "\n",
        "# Load retrieved variables into instance variables for plotting\n",
        "test_acc_CharRNN_LSTM, train_acc_CharRNN_LSTM, test_loss_CharRNN_LSTM, train_loss_CharRNN_LSTM, charRNN_LSTM_timer = retrieved_variables"
      ],
      "execution_count": 8,
      "outputs": []
    },
    {
      "cell_type": "code",
      "metadata": {
        "id": "tqR6c98QEFSF",
        "outputId": "f29b6228-f172-4347-c9b6-8c2b58959e5c",
        "colab": {
          "base_uri": "https://localhost:8080/"
        }
      },
      "source": [
        "# get highest accuracy values\n",
        "highest_acc = max(test_acc_CharRNN_LSTM)\n",
        "\n",
        "# get average accuracy\n",
        "average_acc = sum(test_acc_CharRNN_LSTM)/len(test_acc_CharRNN_LSTM)\n",
        "\n",
        "print('Highest Acc')\n",
        "print(highest_acc)\n",
        "\n",
        "print('')\n",
        "\n",
        "print('Avg Acc')\n",
        "print(average_acc)"
      ],
      "execution_count": 9,
      "outputs": [
        {
          "output_type": "stream",
          "text": [
            "Highest Acc\n",
            "tf.Tensor(0.69714284, shape=(), dtype=float32)\n",
            "\n",
            "Avg Acc\n",
            "tf.Tensor(0.5978341, shape=(), dtype=float32)\n"
          ],
          "name": "stdout"
        }
      ]
    },
    {
      "cell_type": "markdown",
      "metadata": {
        "id": "thsjPn4EIHPy"
      },
      "source": [
        "# Plot"
      ]
    },
    {
      "cell_type": "markdown",
      "metadata": {
        "id": "C2cVUrVpIHum"
      },
      "source": [
        "## Accuracy Plot"
      ]
    },
    {
      "cell_type": "code",
      "metadata": {
        "id": "h1a7aAFaIOpF",
        "outputId": "829df580-688a-412a-fe47-3be93ce25b78",
        "colab": {
          "base_uri": "https://localhost:8080/"
        }
      },
      "source": [
        "plt.plot(train_acc_CharRNN_LSTM,label=\"Train accuracy\")\n",
        "plt.plot(test_acc_CharRNN_LSTM,label=\"Test accuracy\")\n",
        "plt.ylabel(\"Accuracy\")\n",
        "plt.xlabel(\"Epochs\")\n",
        "plt.legend()\n",
        "plt.show()\n",
        "plt.close()"
      ],
      "execution_count": null,
      "outputs": [
        {
          "output_type": "display_data",
          "data": {
            "image/png": "[encoded data removed]",
            "text/plain": [
              "<Figure size 432x288 with 1 Axes>"
            ]
          },
          "metadata": {
            "tags": [],
            "needs_background": "light"
          }
        }
      ]
    },
    {
      "cell_type": "markdown",
      "metadata": {
        "id": "Xf-RSz7NIH1i"
      },
      "source": [
        "## Loss Plot"
      ]
    },
    {
      "cell_type": "code",
      "metadata": {
        "id": "74sfCY76IPG1",
        "outputId": "12452b6b-d3d9-4387-d1cc-649b8483942c",
        "colab": {
          "base_uri": "https://localhost:8080/"
        }
      },
      "source": [
        "plt.plot(train_loss_CharRNN_LSTM,label=\"Train loss\")\n",
        "plt.plot(test_loss_CharRNN_LSTM,label=\"Test loss\")\n",
        "plt.ylabel(\"Loss\")\n",
        "plt.xlabel(\"Epochs\")\n",
        "plt.legend()\n",
        "plt.show()\n",
        "plt.close()"
      ],
      "execution_count": null,
      "outputs": [
        {
          "output_type": "display_data",
          "data": {
            "image/png": "[encoded data removed]",
            "text/plain": [
              "<Figure size 432x288 with 1 Axes>"
            ]
          },
          "metadata": {
            "tags": [],
            "needs_background": "light"
          }
        }
      ]
    },
    {
      "cell_type": "code",
      "metadata": {
        "id": "iFpSg2YtTgf6"
      },
      "source": [
        ""
      ],
      "execution_count": null,
      "outputs": []
    },
    {
      "cell_type": "markdown",
      "metadata": {
        "id": "O_d1umNgpSyK"
      },
      "source": [
        "# Train GRU Layer -> LTSM (WordRNN)"
      ]
    },
    {
      "cell_type": "code",
      "metadata": {
        "id": "MLjHn8Q_pUo-",
        "outputId": "38448652-ce34-4928-a035-e28b54e795f6",
        "colab": {
          "base_uri": "https://localhost:8080/"
        }
      },
      "source": [
        "#Choose optimizer and loss function for training\n",
        "loss_object_2 = tf.keras.losses.SparseCategoricalCrossentropy(from_logits=True)\n",
        "optimizer = tf.keras.optimizers.Adam(learning_rate=lr)\n",
        "\n",
        "#Select metrics to measure the loss and the accuracy of the model. \n",
        "#These metrics accumulate the values over epochs and then print the overall result.\n",
        "train_loss = tf.keras.metrics.Mean(name='train_loss')\n",
        "train_accuracy = tf.keras.metrics.SparseCategoricalAccuracy(name='train_accuracy')\n",
        "\n",
        "test_loss = tf.keras.metrics.Mean(name='test_loss')\n",
        "test_accuracy = tf.keras.metrics.SparseCategoricalAccuracy(name='test_accuracy')\n",
        "\n",
        "test_acc_WordRNN_LSTM = []\n",
        "train_acc_WordRNN_LSTM = []\n",
        "test_loss_WordRNN_LSTM = []\n",
        "train_loss_WordRNN_LSTM = []\n",
        "\n",
        "wordRNN_LSTM_timer = 0\n",
        "\n",
        "WordRNN_LSTM_model = WordRNN_Modded(vocab_size_word, HIDDEN_SIZE , 'lstm', 1)\n",
        "\n",
        "for epoch in range(no_epochs):\n",
        "    # Reset the metrics at the start of the next epoch\n",
        "    train_loss.reset_states()\n",
        "    train_accuracy.reset_states()\n",
        "    test_loss.reset_states()\n",
        "    test_accuracy.reset_states()\n",
        "\n",
        "    epoch_start_time = time.perf_counter()\n",
        "    \n",
        "    for images, labels in train_ds_word:\n",
        "        train_step_2(WordRNN_LSTM_model, images, labels, drop_rate=0)\n",
        "\n",
        "    for images, labels in test_ds_word:\n",
        "        test_step_2(WordRNN_LSTM_model, images, labels, drop_rate=0)\n",
        "\n",
        "    epoch_end_time = time.perf_counter()\n",
        "    wordRNN_LSTM_timer = wordRNN_LSTM_timer + epoch_end_time - epoch_start_time\n",
        "\n",
        "    test_acc_WordRNN_LSTM.append(test_accuracy.result())\n",
        "    train_acc_WordRNN_LSTM.append(train_accuracy.result())\n",
        "    test_loss_WordRNN_LSTM.append(test_loss.result())\n",
        "    train_loss_WordRNN_LSTM.append(train_loss.result())\n",
        "\n",
        "    if ( (epoch+1)%50 == 0 ): \n",
        "        print('[Epoch {}]'.format(epoch+1))\n",
        "        print('⏵Train Loss: {}'.format(train_loss.result()))\n",
        "        print('⏵Train Acc:  {}'.format(train_accuracy.result()))\n",
        "        print('⏵Test Loss:  {}'.format(test_loss.result()))\n",
        "        print('⏵Test Acc:   {}'.format(test_accuracy.result()))\n",
        "        print('')\n",
        "\n",
        "print('Time Taken: {} seconds.'.format(wordRNN_LSTM_timer))"
      ],
      "execution_count": null,
      "outputs": [
        {
          "output_type": "stream",
          "text": [
            "[Epoch 50]\n",
            "⏵Train Loss: 0.04360735043883324\n",
            "⏵Train Acc:  0.9903571605682373\n",
            "⏵Test Loss:  1.6029324531555176\n",
            "⏵Test Acc:   0.7314285635948181\n",
            "\n",
            "[Epoch 100]\n",
            "⏵Train Loss: 0.0032583503052592278\n",
            "⏵Train Acc:  0.9992856979370117\n",
            "⏵Test Loss:  1.6134495735168457\n",
            "⏵Test Acc:   0.7514285445213318\n",
            "\n",
            "[Epoch 150]\n",
            "⏵Train Loss: 0.0008464049315080047\n",
            "⏵Train Acc:  0.9998214244842529\n",
            "⏵Test Loss:  1.713504433631897\n",
            "⏵Test Acc:   0.7671428322792053\n",
            "\n",
            "[Epoch 200]\n",
            "⏵Train Loss: 0.0002030219475273043\n",
            "⏵Train Acc:  1.0\n",
            "⏵Test Loss:  1.693996548652649\n",
            "⏵Test Acc:   0.7671428322792053\n",
            "\n",
            "[Epoch 250]\n",
            "⏵Train Loss: 5.138624692335725e-05\n",
            "⏵Train Acc:  1.0\n",
            "⏵Test Loss:  1.9253212213516235\n",
            "⏵Test Acc:   0.7657142877578735\n",
            "\n",
            "Time Taken: 2217.111184661986 seconds.\n"
          ],
          "name": "stdout"
        }
      ]
    },
    {
      "cell_type": "markdown",
      "metadata": {
        "id": "TWCq5iwwqd3t"
      },
      "source": [
        "## Pickle"
      ]
    },
    {
      "cell_type": "code",
      "metadata": {
        "id": "DPcbVbFGqd3v"
      },
      "source": [
        "instanced_variables = [test_acc_WordRNN_LSTM, train_acc_WordRNN_LSTM, test_loss_WordRNN_LSTM, train_loss_WordRNN_LSTM, wordRNN_LSTM_timer]\n",
        "\n",
        "# create directory in your gdrive\n",
        "filename = f'/content/gdrive/My Drive/Colab Output/Part_B_Q6a_ii_LSTM_WordRNN_variables'\n",
        "outfile = open(filename,'wb')\n",
        "pickle.dump(instanced_variables, outfile)\n",
        "outfile.close()"
      ],
      "execution_count": null,
      "outputs": []
    },
    {
      "cell_type": "code",
      "metadata": {
        "id": "WHNU7V6NETaU"
      },
      "source": [
        "# Retrieve previously saved instanced variables w/ pickle rick\n",
        "infile = open(f'/content/gdrive/My Drive/Colab Output/Part_B_Q6a_ii_LSTM_WordRNN_variables', 'rb')\n",
        "retrieved_variables = pickle.load(infile)\n",
        "infile.close()\n",
        "\n",
        "# Load retrieved variables into instance variables for plotting\n",
        "test_acc_WordRNN_LSTM, train_acc_WordRNN_LSTM, test_loss_WordRNN_LSTM, train_loss_WordRNN_LSTM, wordRNN_LSTM_timer = retrieved_variables"
      ],
      "execution_count": 10,
      "outputs": []
    },
    {
      "cell_type": "code",
      "metadata": {
        "id": "5fF3tKpsEYE_",
        "outputId": "b43bb062-f54e-4a7e-f0c3-bb669841a27e",
        "colab": {
          "base_uri": "https://localhost:8080/"
        }
      },
      "source": [
        "# get highest accuracy values\n",
        "highest_acc = max(test_acc_WordRNN_LSTM)\n",
        "\n",
        "# get average accuracy\n",
        "average_acc = sum(test_acc_WordRNN_LSTM)/len(test_acc_WordRNN_LSTM)\n",
        "\n",
        "print('Highest Acc')\n",
        "print(highest_acc)\n",
        "\n",
        "print('')\n",
        "\n",
        "print('Avg Acc')\n",
        "print(average_acc)"
      ],
      "execution_count": 12,
      "outputs": [
        {
          "output_type": "stream",
          "text": [
            "Highest Acc\n",
            "tf.Tensor(0.7771429, shape=(), dtype=float32)\n",
            "\n",
            "Avg Acc\n",
            "tf.Tensor(0.6752966, shape=(), dtype=float32)\n"
          ],
          "name": "stdout"
        }
      ]
    },
    {
      "cell_type": "markdown",
      "metadata": {
        "id": "FMDlS37oq1Is"
      },
      "source": [
        "# Plot"
      ]
    },
    {
      "cell_type": "markdown",
      "metadata": {
        "id": "AtCykYAFq1Iv"
      },
      "source": [
        "## Accuracy Plot"
      ]
    },
    {
      "cell_type": "code",
      "metadata": {
        "id": "9t1iMUulq1Ix",
        "outputId": "349e9c1f-bb41-47bd-e92c-cf20edc36b5d",
        "colab": {
          "base_uri": "https://localhost:8080/",
          "height": 279
        }
      },
      "source": [
        "plt.plot(train_acc_WordRNN_LSTM,label=\"Train accuracy\")\n",
        "plt.plot(test_acc_WordRNN_LSTM,label=\"Test accuracy\")\n",
        "plt.ylabel(\"Accuracy\")\n",
        "plt.xlabel(\"Epochs\")\n",
        "plt.legend()\n",
        "plt.show()\n",
        "plt.close()"
      ],
      "execution_count": null,
      "outputs": [
        {
          "output_type": "display_data",
          "data": {
            "image/png": "[encoded data removed]",
            "text/plain": [
              "<Figure size 432x288 with 1 Axes>"
            ]
          },
          "metadata": {
            "tags": [],
            "needs_background": "light"
          }
        }
      ]
    },
    {
      "cell_type": "markdown",
      "metadata": {
        "id": "dTW61AaPq1I9"
      },
      "source": [
        "## Loss Plot"
      ]
    },
    {
      "cell_type": "code",
      "metadata": {
        "id": "s7qeOqLZq1JA",
        "outputId": "2fd546e7-410d-47be-9d8a-02045fce87fa",
        "colab": {
          "base_uri": "https://localhost:8080/",
          "height": 279
        }
      },
      "source": [
        "plt.plot(train_loss_WordRNN_LSTM,label=\"Train loss\")\n",
        "plt.plot(test_loss_WordRNN_LSTM,label=\"Test loss\")\n",
        "plt.ylabel(\"Loss\")\n",
        "plt.xlabel(\"Epochs\")\n",
        "plt.legend()\n",
        "plt.show()\n",
        "plt.close()"
      ],
      "execution_count": null,
      "outputs": [
        {
          "output_type": "display_data",
          "data": {
            "image/png": "[encoded data removed]",
            "text/plain": [
              "<Figure size 432x288 with 1 Axes>"
            ]
          },
          "metadata": {
            "tags": [],
            "needs_background": "light"
          }
        }
      ]
    },
    {
      "cell_type": "code",
      "metadata": {
        "id": "vrIyU53-q1JH"
      },
      "source": [
        ""
      ],
      "execution_count": null,
      "outputs": []
    }
  ]
}