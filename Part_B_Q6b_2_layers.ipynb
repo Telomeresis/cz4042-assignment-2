{
  "nbformat": 4,
  "nbformat_minor": 0,
  "metadata": {
    "colab": {
      "name": "Part_B_Q6b_2_layers.ipynb",
      "provenance": [],
      "collapsed_sections": []
    },
    "kernelspec": {
      "name": "python3",
      "display_name": "Python 3"
    },
    "accelerator": "GPU"
  },
  "cells": [
    {
      "cell_type": "markdown",
      "metadata": {
        "id": "KyrWpkXbkGHF"
      },
      "source": [
        "# Import Libraries"
      ]
    },
    {
      "cell_type": "code",
      "metadata": {
        "id": "Pnv2y2h6j7sc",
        "outputId": "30a750c2-c55a-40f7-8286-9910a6e965b4",
        "colab": {
          "base_uri": "https://localhost:8080/"
        }
      },
      "source": [
        "import csv\n",
        "import re\n",
        "import pylab\n",
        "import time\n",
        "import collections\n",
        "import numpy as np\n",
        "import nltk\n",
        "nltk.download('punkt')\n",
        "import tensorflow as tf\n",
        "from nltk.tokenize import word_tokenize\n",
        "from tensorflow.keras import Model, layers\n",
        "from keras.utils.np_utils import to_categorical\n",
        "import matplotlib.pyplot as plt\n",
        "\n",
        "import pickle\n",
        "\n",
        "from google.colab import drive\n",
        "drive.mount('/content/gdrive')"
      ],
      "execution_count": 1,
      "outputs": [
        {
          "output_type": "stream",
          "text": [
            "[nltk_data] Downloading package punkt to /root/nltk_data...\n",
            "[nltk_data]   Unzipping tokenizers/punkt.zip.\n",
            "Mounted at /content/gdrive\n"
          ],
          "name": "stdout"
        }
      ]
    },
    {
      "cell_type": "markdown",
      "metadata": {
        "id": "jmyFiTPLkqmb"
      },
      "source": [
        "# Initialize Variables"
      ]
    },
    {
      "cell_type": "code",
      "metadata": {
        "id": "hu9e5TLfkEVp"
      },
      "source": [
        "#Initialise variables to be used later\n",
        "MAX_DOCUMENT_LENGTH = 100\n",
        "N_FILTERS = 10\n",
        "FILTER_SHAPE1 = [20, 256]\n",
        "FILTER_SHAPE2= [20, 1]\n",
        "FILTER_SHAPE3 = [20, 20]\n",
        "POOLING_WINDOW = 4\n",
        "POOLING_STRIDE = 2\n",
        "MAX_LABEL = 15\n",
        " \n",
        "batch_size = 128\n",
        "one_hot_size = 256\n",
        "no_epochs = 250\n",
        "lr = 0.01\n",
        " \n",
        "seed = 10\n",
        "tf.random.set_seed(seed)\n",
        "\n",
        "#Initialise variables for RNN\n",
        "HIDDEN_SIZE = 20"
      ],
      "execution_count": null,
      "outputs": []
    },
    {
      "cell_type": "code",
      "metadata": {
        "id": "_0T7QVeAkKY4"
      },
      "source": [
        "#Initialise additional needed variable\n",
        "EMBEDDING_SIZE = 20"
      ],
      "execution_count": null,
      "outputs": []
    },
    {
      "cell_type": "markdown",
      "metadata": {
        "id": "JE3u9IW8SRjY"
      },
      "source": [
        "# Pre-processing "
      ]
    },
    {
      "cell_type": "markdown",
      "metadata": {
        "id": "oQIOtG8-SSyU"
      },
      "source": [
        "## Char Preprocessing"
      ]
    },
    {
      "cell_type": "code",
      "metadata": {
        "id": "oO4YdZcMSZe5"
      },
      "source": [
        "#Define functions to be used later\n",
        "#Get all the unique characters used in the string supplied\n",
        "def vocabulary(strings):\n",
        "    chars = sorted(list(set(list(''.join(strings)))))\n",
        "    char_to_ix = { ch:i for i,ch in enumerate(chars) }\n",
        "    vocab_size = len(chars)\n",
        "    return vocab_size, char_to_ix\n",
        "\n",
        "#Preprocess strings and truncate if length longer than 100\n",
        "def preprocess(strings, char_to_ix, MAX_LENGTH):\n",
        "    data_chars = [list(d.lower()) for _, d in enumerate(strings)]\n",
        "    for i, d in enumerate(data_chars):\n",
        "        if len(d)>MAX_LENGTH:\n",
        "            d = d[:MAX_LENGTH]\n",
        "        elif len(d) < MAX_LENGTH:\n",
        "            d += [' '] * (MAX_LENGTH - len(d))\n",
        "            \n",
        "    data_ids = np.zeros([len(data_chars), MAX_LENGTH], dtype=np.int64)\n",
        "    for i in range(len(data_chars)):\n",
        "        for j in range(MAX_LENGTH):\n",
        "            data_ids[i, j] = char_to_ix[data_chars[i][j]]\n",
        "    return np.array(data_ids)\n",
        "\n",
        "#Read in the data in the train and test csv files\n",
        "def read_data_chars():\n",
        "    x_train, y_train, x_test, y_test = [], [], [], []\n",
        "    cop = re.compile(\"[^a-z^A-Z^0-9^,^.^' ']\")\n",
        "    with open('/content/gdrive/My Drive/Colab Notebooks/train_medium.csv', encoding='utf-8') as filex:\n",
        "        reader = csv.reader(filex)\n",
        "        for row in reader:\n",
        "            data = cop.sub(\"\", row[1])\n",
        "            x_train.append(data)\n",
        "            y_train.append(int(row[0]))\n",
        "\n",
        "    with open('/content/gdrive/My Drive/Colab Notebooks/test_medium.csv', encoding='utf-8') as filex:\n",
        "        reader = csv.reader(filex)\n",
        "        for row in reader:\n",
        "            data = cop.sub(\"\", row[1])\n",
        "            x_test.append(data)\n",
        "            y_test.append(int(row[0]))\n",
        "\n",
        "\n",
        "    vocab_size, char_to_ix = vocabulary(x_train+x_test)\n",
        "    x_train = preprocess(x_train, char_to_ix, MAX_DOCUMENT_LENGTH)\n",
        "    y_train = np.array(y_train)\n",
        "    x_test = preprocess(x_test, char_to_ix, MAX_DOCUMENT_LENGTH)\n",
        "    y_test = np.array(y_test)\n",
        "\n",
        "    x_train = tf.constant(x_train, dtype=tf.int64)\n",
        "    y_train = tf.constant(y_train, dtype=tf.int64)\n",
        "    x_test = tf.constant(x_test, dtype=tf.int64)\n",
        "    y_test = tf.constant(y_test, dtype=tf.int64)\n",
        "\n",
        "    return x_train, y_train, x_test, y_test\n",
        "\n",
        "\n",
        "x_train, y_train, x_test, y_test = read_data_chars()\n",
        "\n",
        "#Use `tf.data` to batch and shuffle the dataset:\n",
        "train_ds = tf.data.Dataset.from_tensor_slices(\n",
        "    (x_train, y_train)).shuffle(10000).batch(batch_size)\n",
        "test_ds = tf.data.Dataset.from_tensor_slices((x_test, y_test)).batch(batch_size)\n"
      ],
      "execution_count": null,
      "outputs": []
    },
    {
      "cell_type": "markdown",
      "metadata": {
        "id": "d-d60c0HSVoJ"
      },
      "source": [
        "## Word Preprocessing"
      ]
    },
    {
      "cell_type": "code",
      "metadata": {
        "id": "gKFb1UtOSNgv"
      },
      "source": [
        "#Define functions used for word classifier\n",
        "def clean_str(text):\n",
        "    text = re.sub(r\"[^A-Za-z0-9(),!?\\'\\`\\\"]\", \" \", text)\n",
        "    text = re.sub(r\"\\s{2,}\", \" \", text)\n",
        "    text = text.strip().lower()\n",
        "\n",
        "    return text\n",
        "\n",
        "\n",
        "def build_word_dict(contents):\n",
        "    words = list()\n",
        "    for content in contents:\n",
        "        for word in word_tokenize(clean_str(content)):\n",
        "            words.append(word)\n",
        "\n",
        "    word_counter = collections.Counter(words).most_common()\n",
        "    word_dict = dict()\n",
        "    word_dict[\"<pad>\"] = 0\n",
        "    word_dict[\"<unk>\"] = 1\n",
        "    word_dict[\"<eos>\"] = 2\n",
        "    for word, _ in word_counter:\n",
        "        word_dict[word] = len(word_dict)\n",
        "    return word_dict\n",
        "\n",
        "\n",
        "def preprocess(contents, word_dict, document_max_len):\n",
        "    x = list(map(lambda d: word_tokenize(clean_str(d)), contents))\n",
        "    x = list(map(lambda d: list(map(lambda w: word_dict.get(w, word_dict[\"<unk>\"]), d)), x))\n",
        "    x = list(map(lambda d: d + [word_dict[\"<eos>\"]], x))\n",
        "    x = list(map(lambda d: d[:document_max_len], x))\n",
        "    x = list(map(lambda d: d + (document_max_len - len(d)) * [word_dict[\"<pad>\"]], x))\n",
        "    return x\n",
        "\n",
        "\n",
        "def read_data_words():\n",
        "    x_train, y_train, x_test, y_test = [], [], [], []\n",
        "    cop = re.compile(\"[^a-z^A-Z^0-9^,^.^' ']\")\n",
        "    with open('/content/gdrive/My Drive/Colab Notebooks/train_medium.csv', encoding='utf-8') as filex:\n",
        "    #with open('train_medium.csv', encoding='utf-8') as filex:\n",
        "        reader = csv.reader(filex)\n",
        "        for row in reader:\n",
        "            data = cop.sub(\"\", row[1])\n",
        "            x_train.append(data)\n",
        "            y_train.append(int(row[0]))\n",
        "    with open('/content/gdrive/My Drive/Colab Notebooks/test_medium.csv', encoding='utf-8') as filex:   \n",
        "    #with open('test_medium.csv', encoding='utf-8') as filex:\n",
        "        reader = csv.reader(filex)\n",
        "        for row in reader:\n",
        "            data = cop.sub(\"\", row[1])\n",
        "            x_test.append(data)\n",
        "            y_test.append(int(row[0]))\n",
        "\n",
        "    word_dict = build_word_dict(x_train+x_test)\n",
        "    x_train = preprocess(x_train, word_dict, MAX_DOCUMENT_LENGTH)\n",
        "    y_train = np.array(y_train)\n",
        "    x_test = preprocess(x_test, word_dict, MAX_DOCUMENT_LENGTH)\n",
        "    y_test = np.array(y_test)\n",
        "\n",
        "    x_train = [x[:MAX_DOCUMENT_LENGTH] for x in x_train]\n",
        "    x_test = [x[:MAX_DOCUMENT_LENGTH] for x in x_test]\n",
        "    x_train = tf.constant(x_train, dtype=tf.int64)\n",
        "    y_train = tf.constant(y_train, dtype=tf.int64)\n",
        "    x_test = tf.constant(x_test, dtype=tf.int64)\n",
        "    y_test = tf.constant(y_test, dtype=tf.int64)\n",
        "\n",
        "    vocab_size = tf.get_static_value(tf.reduce_max(x_train))\n",
        "    vocab_size = max(vocab_size, tf.get_static_value(tf.reduce_max(x_test))) + 1\n",
        "    return x_train, y_train, x_test, y_test, vocab_size\n",
        "\n",
        "\n",
        "#Read in the dataset and vocab size\n",
        "x_train_word, y_train_word, x_test_word, y_test_word, vocab_size_word = read_data_words()\n",
        "\n",
        "# Use `tf.data` to batch and shuffle the dataset:\n",
        "train_ds_word = tf.data.Dataset.from_tensor_slices(\n",
        "    (x_train_word, y_train_word)).shuffle(10000).batch(batch_size)\n",
        "test_ds_word = tf.data.Dataset.from_tensor_slices((x_test_word, y_test_word)).batch(batch_size)"
      ],
      "execution_count": null,
      "outputs": []
    },
    {
      "cell_type": "code",
      "metadata": {
        "id": "YIVAyQTnk1mo"
      },
      "source": [
        ""
      ],
      "execution_count": null,
      "outputs": []
    },
    {
      "cell_type": "markdown",
      "metadata": {
        "id": "y763ornESgN-"
      },
      "source": [
        "# Training & Testing Step Functions"
      ]
    },
    {
      "cell_type": "markdown",
      "metadata": {
        "id": "QWjX_yseSjZ2"
      },
      "source": [
        "## T&T for RNNs"
      ]
    },
    {
      "cell_type": "code",
      "metadata": {
        "id": "OMsnwXi3SfmP"
      },
      "source": [
        "def train_step_2(model, x, label, drop_rate):\n",
        "    with tf.GradientTape() as tape:\n",
        "        out = model(x, drop_rate)\n",
        "        loss = loss_object_2(label, out)\n",
        "        gradients = tape.gradient(loss, model.trainable_variables)\n",
        "        optimizer.apply_gradients(zip(gradients, model.trainable_variables))\n",
        "        \n",
        "    train_loss(loss)\n",
        "    train_accuracy(labels, out)\n",
        "\n",
        "# Testing function\n",
        "def test_step_2(model, x, label, drop_rate=0):\n",
        "    out = model(x,drop_rate)\n",
        "    t_loss = loss_object_2(label, out)\n",
        "    test_loss(t_loss)\n",
        "    test_accuracy(label, out)"
      ],
      "execution_count": null,
      "outputs": []
    },
    {
      "cell_type": "markdown",
      "metadata": {
        "id": "mak6iGQgk-hC"
      },
      "source": [
        "# Modified CharRNN"
      ]
    },
    {
      "cell_type": "code",
      "metadata": {
        "id": "QzEOqJBYk_Fw"
      },
      "source": [
        "# Build model\n",
        "tf.keras.backend.set_floatx('float32')\n",
        "class CharRNN_Modded(Model):\n",
        "\n",
        "    def __init__(self, vocab_size=256, hidden_dim=10, layer_type='gru', n_layers=1):\n",
        "        super(CharRNN_Modded, self).__init__()\n",
        "        self.vocab_size = vocab_size\n",
        "        self.hidden_dim = hidden_dim\n",
        "        self.n_layers = n_layers\n",
        "        \n",
        "        # layer type for RNN\n",
        "        if layer_type == 'rnn':\n",
        "          layer_fn = layers.SimpleRNNCell\n",
        "        elif layer_type == 'gru':\n",
        "          layer_fn = layers.GRUCell\n",
        "        elif layer_type == 'lstm':\n",
        "          layer_fn = layers.LSTMCell\n",
        "\n",
        "        layer_stack = []\n",
        "        for i in range(self.n_layers):\n",
        "          layer_stack.append(layer_fn(self.hidden_dim))\n",
        "        layer_stack = layers.StackedRNNCells(layer_stack)\n",
        "\n",
        "        self.rnn = layers.RNN(layer_stack, unroll=True)\n",
        "        self.dense = layers.Dense(MAX_LABEL, activation=None)\n",
        "\n",
        "    def call(self, x, drop_rate):\n",
        "        # forward logic\n",
        "        categorical_labels = to_categorical(x, self.vocab_size)\n",
        "        encoding = self.rnn(categorical_labels)\n",
        "        encoding = tf.nn.dropout(encoding, drop_rate)\n",
        "        logits = self.dense(encoding)\n",
        "    \n",
        "        return logits"
      ],
      "execution_count": null,
      "outputs": []
    },
    {
      "cell_type": "markdown",
      "metadata": {
        "id": "tm5kfGPMlPy8"
      },
      "source": [
        "# Modified WordRNN"
      ]
    },
    {
      "cell_type": "code",
      "metadata": {
        "id": "dKH9mxudlNbT"
      },
      "source": [
        "# Build model\n",
        "tf.keras.backend.set_floatx('float32')\n",
        "class WordRNN_Modded(Model):\n",
        "\n",
        "    def __init__(self, vocab_size, hidden_dim=10, layer_type='gru', n_layers=1):\n",
        "        super(WordRNN_Modded, self).__init__()\n",
        "        self.hidden_dim = hidden_dim\n",
        "        self.vocab_size = vocab_size\n",
        "        self.embedding = layers.Embedding(vocab_size, EMBEDDING_SIZE, input_length=MAX_DOCUMENT_LENGTH)\n",
        "        #The number of RNN layers to be used\n",
        "        self.n_layers = n_layers\n",
        "        \n",
        "       # layer type for RNN\n",
        "        if layer_type == 'rnn':\n",
        "          layer_funct = layers.SimpleRNNCell\n",
        "        elif layer_type == 'gru':\n",
        "          layer_funct = layers.GRUCell\n",
        "        elif layer_type == 'lstm':\n",
        "          layer_funct = layers.LSTMCell\n",
        "\n",
        "        layer_stack = []\n",
        "        for i in range(self.n_layers):\n",
        "          layer_stack.append(layer_funct(self.hidden_dim))\n",
        "        layer_stack = layers.StackedRNNCells(layer_stack)\n",
        "\n",
        "        self.rnn = layers.RNN(layer_stack, unroll=True)\n",
        "        self.dense = layers.Dense(MAX_LABEL, activation=None)\n",
        "\n",
        "    def call(self, x, drop_rate):\n",
        "        # forward logic\n",
        "        embedding = self.embedding(x)\n",
        "        encoding = self.rnn(embedding)\n",
        "        encoding = tf.nn.dropout(encoding, drop_rate)\n",
        "        logits = self.dense(encoding)\n",
        "    \n",
        "        return logits "
      ],
      "execution_count": null,
      "outputs": []
    },
    {
      "cell_type": "markdown",
      "metadata": {
        "id": "b4lfAN41ravX"
      },
      "source": [
        "# 2 Layers Modification (CharRNN)"
      ]
    },
    {
      "cell_type": "code",
      "metadata": {
        "id": "WgAeG-flrVwB",
        "outputId": "777f3bde-9480-4623-deba-047023560afa",
        "colab": {
          "base_uri": "https://localhost:8080/"
        }
      },
      "source": [
        "#Choose optimizer and loss function for training\n",
        "loss_object_2 = tf.keras.losses.SparseCategoricalCrossentropy(from_logits=True)\n",
        "optimizer = tf.keras.optimizers.Adam(learning_rate=lr)\n",
        "\n",
        "#Select metrics to measure the loss and the accuracy of the model. \n",
        "#These metrics accumulate the values over epochs and then print the overall result.\n",
        "train_loss = tf.keras.metrics.Mean(name='train_loss')\n",
        "train_accuracy = tf.keras.metrics.SparseCategoricalAccuracy(name='train_accuracy')\n",
        "\n",
        "test_loss = tf.keras.metrics.Mean(name='test_loss')\n",
        "test_accuracy = tf.keras.metrics.SparseCategoricalAccuracy(name='test_accuracy')\n",
        "\n",
        "\n",
        "test_acc_CharRNN_2Layer = []\n",
        "train_acc_CharRNN_2Layer = []\n",
        "test_loss_CharRNN_2Layer = []\n",
        "train_loss_CharRNN_2Layer = []\n",
        "\n",
        "\n",
        "charRNN_2Layer_timer = 0\n",
        "\n",
        "CharRNN_2Layer_model = CharRNN_Modded(256, HIDDEN_SIZE, 'gru', 2)\n",
        "\n",
        "for epoch in range(no_epochs):\n",
        "    # Reset the metrics at the start of the next epoch\n",
        "    train_loss.reset_states()\n",
        "    train_accuracy.reset_states()\n",
        "    test_loss.reset_states()\n",
        "    test_accuracy.reset_states()\n",
        "\n",
        "    epoch_start_time = time.perf_counter()\n",
        "    \n",
        "    for images, labels in train_ds:\n",
        "        train_step_2(CharRNN_2Layer_model, images, labels, drop_rate=0)\n",
        "\n",
        "    for images, labels in test_ds:\n",
        "        test_step_2(CharRNN_2Layer_model, images, labels, drop_rate=0)\n",
        "\n",
        "    epoch_end_time = time.perf_counter()\n",
        "    charRNN_2Layer_timer = charRNN_2Layer_timer + epoch_end_time - epoch_start_time\n",
        "    \n",
        "    test_acc_CharRNN_2Layer.append(test_accuracy.result())\n",
        "    train_acc_CharRNN_2Layer.append(train_accuracy.result())\n",
        "    test_loss_CharRNN_2Layer.append(test_loss.result())\n",
        "    train_loss_CharRNN_2Layer.append(train_loss.result())\n",
        "\n",
        "    if ( (epoch+1)%50 == 0 ): \n",
        "        print('[Epoch {}]'.format(epoch+1))\n",
        "        print('⏵Train Loss: {}'.format(train_loss.result()))\n",
        "        print('⏵Train Acc:  {}'.format(train_accuracy.result()))\n",
        "        print('⏵Test Loss:  {}'.format(test_loss.result()))\n",
        "        print('⏵Test Acc:   {}'.format(test_accuracy.result()))\n",
        "        print('')\n",
        "\n",
        "print('Time Taken: {} seconds.'.format(charRNN_2Layer_timer))"
      ],
      "execution_count": null,
      "outputs": [
        {
          "output_type": "stream",
          "text": [
            "[Epoch 50]\n",
            "⏵Train Loss: 0.2310120016336441\n",
            "⏵Train Acc:  0.929107129573822\n",
            "⏵Test Loss:  1.0956698656082153\n",
            "⏵Test Acc:   0.7428571581840515\n",
            "\n",
            "[Epoch 100]\n",
            "⏵Train Loss: 0.0932919979095459\n",
            "⏵Train Acc:  0.9725000262260437\n",
            "⏵Test Loss:  1.4397517442703247\n",
            "⏵Test Acc:   0.7357142567634583\n",
            "\n",
            "[Epoch 150]\n",
            "⏵Train Loss: 0.04377320781350136\n",
            "⏵Train Acc:  0.9908928275108337\n",
            "⏵Test Loss:  1.8371628522872925\n",
            "⏵Test Acc:   0.7428571581840515\n",
            "\n",
            "[Epoch 200]\n",
            "⏵Train Loss: 0.012536173686385155\n",
            "⏵Train Acc:  0.9989285469055176\n",
            "⏵Test Loss:  1.9104779958724976\n",
            "⏵Test Acc:   0.7285714149475098\n",
            "\n",
            "[Epoch 250]\n",
            "⏵Train Loss: 0.035810861736536026\n",
            "⏵Train Acc:  0.9925000071525574\n",
            "⏵Test Loss:  1.7816787958145142\n",
            "⏵Test Acc:   0.7242857217788696\n",
            "\n",
            "Time Taken: 4554.620000978 seconds.\n"
          ],
          "name": "stdout"
        }
      ]
    },
    {
      "cell_type": "markdown",
      "metadata": {
        "id": "vP2E6MhirkOY"
      },
      "source": [
        "## Pickle"
      ]
    },
    {
      "cell_type": "code",
      "metadata": {
        "id": "T40Zs26Jrkks"
      },
      "source": [
        "instanced_variables = [test_acc_CharRNN_2Layer, train_acc_CharRNN_2Layer, test_loss_CharRNN_2Layer, train_loss_CharRNN_2Layer, charRNN_2Layer_timer]\n",
        "\n",
        "# create directory in your gdrive\n",
        "filename = f'/content/gdrive/My Drive/Colab Output/Part_B_Q6b_2layer_CharRNN_variables'\n",
        "outfile = open(filename,'wb')\n",
        "pickle.dump(instanced_variables, outfile)\n",
        "outfile.close()"
      ],
      "execution_count": null,
      "outputs": []
    },
    {
      "cell_type": "code",
      "metadata": {
        "id": "qzjA2tFSE0K1"
      },
      "source": [
        "# Retrieve previously saved instanced variables w/ pickle rick\n",
        "infile = open(f'/content/gdrive/My Drive/Colab Output/Part_B_Q6b_2layer_CharRNN_variables', 'rb')\n",
        "retrieved_variables = pickle.load(infile)\n",
        "infile.close()\n",
        "\n",
        "# Load retrieved variables into instance variables for plotting\n",
        "test_acc_CharRNN_2Layer, train_acc_CharRNN_2Layer, test_loss_CharRNN_2Layer, train_loss_CharRNN_2Layer, charRNN_2Layer_timer = retrieved_variables"
      ],
      "execution_count": 2,
      "outputs": []
    },
    {
      "cell_type": "code",
      "metadata": {
        "id": "KT-wmbDrE5rN",
        "outputId": "11d109b4-6b1c-4d28-af81-415c71e67eac",
        "colab": {
          "base_uri": "https://localhost:8080/"
        }
      },
      "source": [
        "# get highest accuracy values\n",
        "highest_acc = max(test_acc_CharRNN_2Layer)\n",
        "\n",
        "# get average accuracy\n",
        "average_acc = sum(test_acc_CharRNN_2Layer)/len(test_acc_CharRNN_2Layer)\n",
        "\n",
        "print('Highest Acc')\n",
        "print(highest_acc)\n",
        "\n",
        "print('')\n",
        "\n",
        "print('Avg Acc')\n",
        "print(average_acc)"
      ],
      "execution_count": 4,
      "outputs": [
        {
          "output_type": "stream",
          "text": [
            "Highest Acc\n",
            "tf.Tensor(0.75857145, shape=(), dtype=float32)\n",
            "\n",
            "Avg Acc\n",
            "tf.Tensor(0.7164804, shape=(), dtype=float32)\n"
          ],
          "name": "stdout"
        }
      ]
    },
    {
      "cell_type": "markdown",
      "metadata": {
        "id": "WW4jxj87r5wl"
      },
      "source": [
        "## Plot"
      ]
    },
    {
      "cell_type": "code",
      "metadata": {
        "id": "KjKSfKfAr6YK",
        "outputId": "f3bce9fd-6520-44cc-f7d0-fbbfbd6bcb8a",
        "colab": {
          "base_uri": "https://localhost:8080/",
          "height": 279
        }
      },
      "source": [
        "plt.plot(train_acc_CharRNN_2Layer,label=\"Train accuracy\")\n",
        "plt.plot(test_acc_CharRNN_2Layer,label=\"Test accuracy\")\n",
        "plt.ylabel(\"Accuracy\")\n",
        "plt.xlabel(\"Epochs\")\n",
        "plt.legend()\n",
        "plt.show()\n",
        "plt.close()"
      ],
      "execution_count": null,
      "outputs": [
        {
          "output_type": "display_data",
          "data": {
            "image/png": "[encoded data removed]",
            "text/plain": [
              "<Figure size 432x288 with 1 Axes>"
            ]
          },
          "metadata": {
            "tags": [],
            "needs_background": "light"
          }
        }
      ]
    },
    {
      "cell_type": "code",
      "metadata": {
        "id": "qORKU48Vr7iG",
        "outputId": "c103b9f4-c4b4-4261-beae-6978a93b9609",
        "colab": {
          "base_uri": "https://localhost:8080/",
          "height": 279
        }
      },
      "source": [
        "plt.plot(train_loss_CharRNN_2Layer,label=\"Train loss\")\n",
        "plt.plot(test_loss_CharRNN_2Layer,label=\"Test loss\")\n",
        "plt.ylabel(\"Loss\")\n",
        "plt.xlabel(\"Epochs\")\n",
        "plt.legend()\n",
        "plt.show()\n",
        "plt.close()"
      ],
      "execution_count": null,
      "outputs": [
        {
          "output_type": "display_data",
          "data": {
            "image/png": "[encoded data removed]",
            "text/plain": [
              "<Figure size 432x288 with 1 Axes>"
            ]
          },
          "metadata": {
            "tags": [],
            "needs_background": "light"
          }
        }
      ]
    },
    {
      "cell_type": "markdown",
      "metadata": {
        "id": "rk2rFnujr8-O"
      },
      "source": [
        "# 2 Layers Modification (WordRNN)"
      ]
    },
    {
      "cell_type": "code",
      "metadata": {
        "id": "WfG1-b_ysBTE",
        "outputId": "275b9d8b-1a81-4d88-bab8-774cc5e67b66",
        "colab": {
          "base_uri": "https://localhost:8080/"
        }
      },
      "source": [
        "#Choose optimizer and loss function for training\n",
        "loss_object_2 = tf.keras.losses.SparseCategoricalCrossentropy(from_logits=True)\n",
        "optimizer = tf.keras.optimizers.Adam(learning_rate=lr)\n",
        "\n",
        "#Select metrics to measure the loss and the accuracy of the model. \n",
        "#These metrics accumulate the values over epochs and then print the overall result.\n",
        "train_loss = tf.keras.metrics.Mean(name='train_loss')\n",
        "train_accuracy = tf.keras.metrics.SparseCategoricalAccuracy(name='train_accuracy')\n",
        "\n",
        "test_loss = tf.keras.metrics.Mean(name='test_loss')\n",
        "test_accuracy = tf.keras.metrics.SparseCategoricalAccuracy(name='test_accuracy')\n",
        "\n",
        "test_acc_WordRNN_2Layer = []\n",
        "train_acc_WordRNN_2Layer = []\n",
        "test_loss_WordRNN_2Layer = []\n",
        "train_loss_WordRNN_2Layer = []\n",
        "\n",
        "wordRNN_2Layer_timer = 0\n",
        "\n",
        "WordRNN_2Layer_model = WordRNN_Modded(vocab_size_word, HIDDEN_SIZE , 'gru', 2)\n",
        "\n",
        "for epoch in range(no_epochs):\n",
        "    # Reset the metrics at the start of the next epoch\n",
        "    train_loss.reset_states()\n",
        "    train_accuracy.reset_states()\n",
        "    test_loss.reset_states()\n",
        "    test_accuracy.reset_states()\n",
        "\n",
        "    epoch_start_time = time.perf_counter()\n",
        "    \n",
        "    for images, labels in train_ds_word:\n",
        "        train_step_2(WordRNN_2Layer_model, images, labels, drop_rate=0)\n",
        "\n",
        "    for images, labels in test_ds_word:\n",
        "        test_step_2(WordRNN_2Layer_model, images, labels, drop_rate=0)\n",
        "\n",
        "    epoch_end_time = time.perf_counter()\n",
        "    wordRNN_2Layer_timer = wordRNN_2Layer_timer + epoch_end_time - epoch_start_time\n",
        "\n",
        "    test_acc_WordRNN_2Layer.append(test_accuracy.result())\n",
        "    train_acc_WordRNN_2Layer.append(train_accuracy.result())\n",
        "    test_loss_WordRNN_2Layer.append(test_loss.result())\n",
        "    train_loss_WordRNN_2Layer.append(train_loss.result())\n",
        "\n",
        "    if ( (epoch+1)%50 == 0 ): \n",
        "        print('[Epoch {}]'.format(epoch+1))\n",
        "        print('⏵Train Loss: {}'.format(train_loss.result()))\n",
        "        print('⏵Train Acc:  {}'.format(train_accuracy.result()))\n",
        "        print('⏵Test Loss:  {}'.format(test_loss.result()))\n",
        "        print('⏵Test Acc:   {}'.format(test_accuracy.result()))\n",
        "        print('')\n",
        "\n",
        "print('Time Taken: {} seconds.'.format(wordRNN_2Layer_timer))"
      ],
      "execution_count": null,
      "outputs": [
        {
          "output_type": "stream",
          "text": [
            "[Epoch 50]\n",
            "⏵Train Loss: 0.00032894223113544285\n",
            "⏵Train Acc:  1.0\n",
            "⏵Test Loss:  0.6086038947105408\n",
            "⏵Test Acc:   0.8985714316368103\n",
            "\n",
            "[Epoch 100]\n",
            "⏵Train Loss: 6.446902989409864e-05\n",
            "⏵Train Acc:  1.0\n",
            "⏵Test Loss:  0.7264967560768127\n",
            "⏵Test Acc:   0.9071428775787354\n",
            "\n",
            "[Epoch 150]\n",
            "⏵Train Loss: 1.8565286154625937e-05\n",
            "⏵Train Acc:  1.0\n",
            "⏵Test Loss:  0.8088192939758301\n",
            "⏵Test Acc:   0.9071428775787354\n",
            "\n",
            "[Epoch 200]\n",
            "⏵Train Loss: 5.840553967573214e-06\n",
            "⏵Train Acc:  1.0\n",
            "⏵Test Loss:  0.8985624313354492\n",
            "⏵Test Acc:   0.9014285802841187\n",
            "\n",
            "[Epoch 250]\n",
            "⏵Train Loss: 1.8972056068378151e-06\n",
            "⏵Train Acc:  1.0\n",
            "⏵Test Loss:  0.9875893592834473\n",
            "⏵Test Acc:   0.8985714316368103\n",
            "\n",
            "Time Taken: 4787.341142533009 seconds.\n"
          ],
          "name": "stdout"
        }
      ]
    },
    {
      "cell_type": "markdown",
      "metadata": {
        "id": "t19GA-SDsNQX"
      },
      "source": [
        "## Pickle"
      ]
    },
    {
      "cell_type": "code",
      "metadata": {
        "id": "ZW5ZB8NdsNrv"
      },
      "source": [
        "instanced_variables = [test_acc_WordRNN_2Layer, train_acc_WordRNN_2Layer, test_loss_WordRNN_2Layer, train_loss_WordRNN_2Layer, wordRNN_2Layer_timer]\n",
        "\n",
        "# create directory in your gdrive\n",
        "filename = f'/content/gdrive/My Drive/Colab Output/Part_B_Q6b_2layer_WordRNN_variables'\n",
        "outfile = open(filename,'wb')\n",
        "pickle.dump(instanced_variables, outfile)\n",
        "outfile.close()"
      ],
      "execution_count": null,
      "outputs": []
    },
    {
      "cell_type": "code",
      "metadata": {
        "id": "sVR-3C5qFTHB"
      },
      "source": [
        "# Retrieve previously saved instanced variables w/ pickle rick\n",
        "infile = open(f'/content/gdrive/My Drive/Colab Output/Part_B_Q6b_2layer_WordRNN_variables', 'rb')\n",
        "retrieved_variables = pickle.load(infile)\n",
        "infile.close()\n",
        "\n",
        "# Load retrieved variables into instance variables for plotting\n",
        "test_acc_WordRNN_2Layer, train_acc_WordRNN_2Layer, test_loss_WordRNN_2Layer, train_loss_WordRNN_2Layer, wordRNN_2Layer_timer = retrieved_variables"
      ],
      "execution_count": 5,
      "outputs": []
    },
    {
      "cell_type": "markdown",
      "metadata": {
        "id": "ug39pOH_sN8A"
      },
      "source": [
        "## Plot"
      ]
    },
    {
      "cell_type": "code",
      "metadata": {
        "id": "kUiQhS50FXlI",
        "outputId": "6c0b9b0a-6c7b-4c3f-f7e1-76aad1789efd",
        "colab": {
          "base_uri": "https://localhost:8080/"
        }
      },
      "source": [
        "# get highest accuracy values\n",
        "highest_acc = max(test_acc_WordRNN_2Layer)\n",
        "\n",
        "# get average accuracy\n",
        "average_acc = sum(test_acc_WordRNN_2Layer)/len(test_acc_WordRNN_2Layer)\n",
        "\n",
        "print('Highest Acc')\n",
        "print(highest_acc)\n",
        "\n",
        "print('')\n",
        "\n",
        "print('Avg Acc')\n",
        "print(average_acc)"
      ],
      "execution_count": 6,
      "outputs": [
        {
          "output_type": "stream",
          "text": [
            "Highest Acc\n",
            "tf.Tensor(0.9085714, shape=(), dtype=float32)\n",
            "\n",
            "Avg Acc\n",
            "tf.Tensor(0.8896407, shape=(), dtype=float32)\n"
          ],
          "name": "stdout"
        }
      ]
    },
    {
      "cell_type": "code",
      "metadata": {
        "id": "fKhQcHH9sOEI",
        "outputId": "ac4d201c-a472-4b8e-f01d-3382828ff068",
        "colab": {
          "base_uri": "https://localhost:8080/",
          "height": 279
        }
      },
      "source": [
        "plt.plot(train_acc_WordRNN_2Layer,label=\"Train accuracy\")\n",
        "plt.plot(test_acc_WordRNN_2Layer,label=\"Test accuracy\")\n",
        "plt.ylabel(\"Accuracy\")\n",
        "plt.xlabel(\"Epochs\")\n",
        "plt.legend()\n",
        "plt.show()\n",
        "plt.close()"
      ],
      "execution_count": null,
      "outputs": [
        {
          "output_type": "display_data",
          "data": {
            "image/png": "[encoded data removed]",
            "text/plain": [
              "<Figure size 432x288 with 1 Axes>"
            ]
          },
          "metadata": {
            "tags": [],
            "needs_background": "light"
          }
        }
      ]
    },
    {
      "cell_type": "code",
      "metadata": {
        "id": "ixt9wr-FshHU",
        "outputId": "51592d0c-1625-460e-c64c-2d9b717c5e83",
        "colab": {
          "base_uri": "https://localhost:8080/",
          "height": 279
        }
      },
      "source": [
        "plt.plot(train_loss_WordRNN_2Layer,label=\"Train loss\")\n",
        "plt.plot(test_loss_WordRNN_2Layer,label=\"Test loss\")\n",
        "plt.ylabel(\"Loss\")\n",
        "plt.xlabel(\"Epochs\")\n",
        "plt.legend()\n",
        "plt.show()\n",
        "plt.close()"
      ],
      "execution_count": null,
      "outputs": [
        {
          "output_type": "display_data",
          "data": {
            "image/png": "[encoded data removed]",
            "text/plain": [
              "<Figure size 432x288 with 1 Axes>"
            ]
          },
          "metadata": {
            "tags": [],
            "needs_background": "light"
          }
        }
      ]
    }
  ]
}