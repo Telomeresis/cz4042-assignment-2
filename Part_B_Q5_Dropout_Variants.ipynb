{
  "nbformat": 4,
  "nbformat_minor": 0,
  "metadata": {
    "colab": {
      "name": "Part_B_Q5_Dropout_Variants.ipynb",
      "provenance": [],
      "machine_shape": "hm"
    },
    "kernelspec": {
      "name": "python3",
      "display_name": "Python 3"
    },
    "accelerator": "GPU"
  },
  "cells": [
    {
      "cell_type": "markdown",
      "metadata": {
        "id": "e7NQKL7QSDo6"
      },
      "source": [
        "# Import Libraries"
      ]
    },
    {
      "cell_type": "code",
      "metadata": {
        "id": "6RwHahodR_eh",
        "outputId": "034756a5-db44-48de-cc45-d4b58b6889fe",
        "colab": {
          "base_uri": "https://localhost:8080/"
        }
      },
      "source": [
        "import csv\n",
        "import re\n",
        "import pylab\n",
        "import time\n",
        "import collections\n",
        "import numpy as np\n",
        "import nltk\n",
        "nltk.download('punkt')\n",
        "import tensorflow as tf\n",
        "from nltk.tokenize import word_tokenize\n",
        "from tensorflow.keras import Model, layers\n",
        "from keras.utils.np_utils import to_categorical\n",
        "import matplotlib.pyplot as plt\n",
        "\n",
        "from google.colab import drive\n",
        "drive.mount('/content/gdrive')\n",
        "\n",
        "import pickle"
      ],
      "execution_count": 1,
      "outputs": [
        {
          "output_type": "stream",
          "text": [
            "[nltk_data] Downloading package punkt to /root/nltk_data...\n",
            "[nltk_data]   Unzipping tokenizers/punkt.zip.\n",
            "Mounted at /content/gdrive\n"
          ],
          "name": "stdout"
        }
      ]
    },
    {
      "cell_type": "markdown",
      "metadata": {
        "id": "RI1CGXrySI-r"
      },
      "source": [
        "# Initialize Variables"
      ]
    },
    {
      "cell_type": "code",
      "metadata": {
        "id": "8rXpItllSIZ8"
      },
      "source": [
        "#Initialise variables to be used later\n",
        "MAX_DOCUMENT_LENGTH = 100\n",
        "N_FILTERS = 10\n",
        "FILTER_SHAPE1 = [20, 256]\n",
        "FILTER_SHAPE2= [20, 1]\n",
        "FILTER_SHAPE3 = [20, 20]\n",
        "POOLING_WINDOW = 4\n",
        "POOLING_STRIDE = 2\n",
        "MAX_LABEL = 15\n",
        " \n",
        "batch_size = 128\n",
        "one_hot_size = 256\n",
        "no_epochs = 250\n",
        "lr = 0.01\n",
        " \n",
        "seed = 10\n",
        "tf.random.set_seed(seed)\n",
        "\n",
        "#Initialise variables for RNN\n",
        "HIDDEN_SIZE = 20"
      ],
      "execution_count": null,
      "outputs": []
    },
    {
      "cell_type": "code",
      "metadata": {
        "id": "u1CGXlk6SyaT"
      },
      "source": [
        "#Initialise additional needed variable\n",
        "EMBEDDING_SIZE = 20"
      ],
      "execution_count": null,
      "outputs": []
    },
    {
      "cell_type": "markdown",
      "metadata": {
        "id": "JE3u9IW8SRjY"
      },
      "source": [
        "# Pre-processing "
      ]
    },
    {
      "cell_type": "markdown",
      "metadata": {
        "id": "oQIOtG8-SSyU"
      },
      "source": [
        "## Char Preprocessing"
      ]
    },
    {
      "cell_type": "code",
      "metadata": {
        "id": "oO4YdZcMSZe5"
      },
      "source": [
        "#Define functions to be used later\n",
        "#Get all the unique characters used in the string supplied\n",
        "def vocabulary(strings):\n",
        "    chars = sorted(list(set(list(''.join(strings)))))\n",
        "    char_to_ix = { ch:i for i,ch in enumerate(chars) }\n",
        "    vocab_size = len(chars)\n",
        "    return vocab_size, char_to_ix\n",
        "\n",
        "#Preprocess strings and truncate if length longer than 100\n",
        "def preprocess(strings, char_to_ix, MAX_LENGTH):\n",
        "    data_chars = [list(d.lower()) for _, d in enumerate(strings)]\n",
        "    for i, d in enumerate(data_chars):\n",
        "        if len(d)>MAX_LENGTH:\n",
        "            d = d[:MAX_LENGTH]\n",
        "        elif len(d) < MAX_LENGTH:\n",
        "            d += [' '] * (MAX_LENGTH - len(d))\n",
        "            \n",
        "    data_ids = np.zeros([len(data_chars), MAX_LENGTH], dtype=np.int64)\n",
        "    for i in range(len(data_chars)):\n",
        "        for j in range(MAX_LENGTH):\n",
        "            data_ids[i, j] = char_to_ix[data_chars[i][j]]\n",
        "    return np.array(data_ids)\n",
        "\n",
        "#Read in the data in the train and test csv files\n",
        "def read_data_chars():\n",
        "    x_train, y_train, x_test, y_test = [], [], [], []\n",
        "    cop = re.compile(\"[^a-z^A-Z^0-9^,^.^' ']\")\n",
        "    with open('/content/gdrive/My Drive/Colab Notebooks/train_medium.csv', encoding='utf-8') as filex:\n",
        "        reader = csv.reader(filex)\n",
        "        for row in reader:\n",
        "            data = cop.sub(\"\", row[1])\n",
        "            x_train.append(data)\n",
        "            y_train.append(int(row[0]))\n",
        "\n",
        "    with open('/content/gdrive/My Drive/Colab Notebooks/test_medium.csv', encoding='utf-8') as filex:\n",
        "        reader = csv.reader(filex)\n",
        "        for row in reader:\n",
        "            data = cop.sub(\"\", row[1])\n",
        "            x_test.append(data)\n",
        "            y_test.append(int(row[0]))\n",
        "\n",
        "\n",
        "    vocab_size, char_to_ix = vocabulary(x_train+x_test)\n",
        "    x_train = preprocess(x_train, char_to_ix, MAX_DOCUMENT_LENGTH)\n",
        "    y_train = np.array(y_train)\n",
        "    x_test = preprocess(x_test, char_to_ix, MAX_DOCUMENT_LENGTH)\n",
        "    y_test = np.array(y_test)\n",
        "\n",
        "    x_train = tf.constant(x_train, dtype=tf.int64)\n",
        "    y_train = tf.constant(y_train, dtype=tf.int64)\n",
        "    x_test = tf.constant(x_test, dtype=tf.int64)\n",
        "    y_test = tf.constant(y_test, dtype=tf.int64)\n",
        "\n",
        "    return x_train, y_train, x_test, y_test\n",
        "\n",
        "\n",
        "x_train, y_train, x_test, y_test = read_data_chars()\n",
        "\n",
        "#Use `tf.data` to batch and shuffle the dataset:\n",
        "train_ds = tf.data.Dataset.from_tensor_slices(\n",
        "    (x_train, y_train)).shuffle(10000).batch(batch_size)\n",
        "test_ds = tf.data.Dataset.from_tensor_slices((x_test, y_test)).batch(batch_size)\n"
      ],
      "execution_count": null,
      "outputs": []
    },
    {
      "cell_type": "markdown",
      "metadata": {
        "id": "d-d60c0HSVoJ"
      },
      "source": [
        "## Word Preprocessing"
      ]
    },
    {
      "cell_type": "code",
      "metadata": {
        "id": "gKFb1UtOSNgv"
      },
      "source": [
        "#Define functions used for word classifier\n",
        "def clean_str(text):\n",
        "    text = re.sub(r\"[^A-Za-z0-9(),!?\\'\\`\\\"]\", \" \", text)\n",
        "    text = re.sub(r\"\\s{2,}\", \" \", text)\n",
        "    text = text.strip().lower()\n",
        "\n",
        "    return text\n",
        "\n",
        "\n",
        "def build_word_dict(contents):\n",
        "    words = list()\n",
        "    for content in contents:\n",
        "        for word in word_tokenize(clean_str(content)):\n",
        "            words.append(word)\n",
        "\n",
        "    word_counter = collections.Counter(words).most_common()\n",
        "    word_dict = dict()\n",
        "    word_dict[\"<pad>\"] = 0\n",
        "    word_dict[\"<unk>\"] = 1\n",
        "    word_dict[\"<eos>\"] = 2\n",
        "    for word, _ in word_counter:\n",
        "        word_dict[word] = len(word_dict)\n",
        "    return word_dict\n",
        "\n",
        "\n",
        "def preprocess(contents, word_dict, document_max_len):\n",
        "    x = list(map(lambda d: word_tokenize(clean_str(d)), contents))\n",
        "    x = list(map(lambda d: list(map(lambda w: word_dict.get(w, word_dict[\"<unk>\"]), d)), x))\n",
        "    x = list(map(lambda d: d + [word_dict[\"<eos>\"]], x))\n",
        "    x = list(map(lambda d: d[:document_max_len], x))\n",
        "    x = list(map(lambda d: d + (document_max_len - len(d)) * [word_dict[\"<pad>\"]], x))\n",
        "    return x\n",
        "\n",
        "\n",
        "def read_data_words():\n",
        "    x_train, y_train, x_test, y_test = [], [], [], []\n",
        "    cop = re.compile(\"[^a-z^A-Z^0-9^,^.^' ']\")\n",
        "    with open('/content/gdrive/My Drive/Colab Notebooks/train_medium.csv', encoding='utf-8') as filex:\n",
        "    #with open('train_medium.csv', encoding='utf-8') as filex:\n",
        "        reader = csv.reader(filex)\n",
        "        for row in reader:\n",
        "            data = cop.sub(\"\", row[1])\n",
        "            x_train.append(data)\n",
        "            y_train.append(int(row[0]))\n",
        "    with open('/content/gdrive/My Drive/Colab Notebooks/test_medium.csv', encoding='utf-8') as filex:   \n",
        "    #with open('test_medium.csv', encoding='utf-8') as filex:\n",
        "        reader = csv.reader(filex)\n",
        "        for row in reader:\n",
        "            data = cop.sub(\"\", row[1])\n",
        "            x_test.append(data)\n",
        "            y_test.append(int(row[0]))\n",
        "\n",
        "    word_dict = build_word_dict(x_train+x_test)\n",
        "    x_train = preprocess(x_train, word_dict, MAX_DOCUMENT_LENGTH)\n",
        "    y_train = np.array(y_train)\n",
        "    x_test = preprocess(x_test, word_dict, MAX_DOCUMENT_LENGTH)\n",
        "    y_test = np.array(y_test)\n",
        "\n",
        "    x_train = [x[:MAX_DOCUMENT_LENGTH] for x in x_train]\n",
        "    x_test = [x[:MAX_DOCUMENT_LENGTH] for x in x_test]\n",
        "    x_train = tf.constant(x_train, dtype=tf.int64)\n",
        "    y_train = tf.constant(y_train, dtype=tf.int64)\n",
        "    x_test = tf.constant(x_test, dtype=tf.int64)\n",
        "    y_test = tf.constant(y_test, dtype=tf.int64)\n",
        "\n",
        "    vocab_size = tf.get_static_value(tf.reduce_max(x_train))\n",
        "    vocab_size = max(vocab_size, tf.get_static_value(tf.reduce_max(x_test))) + 1\n",
        "    return x_train, y_train, x_test, y_test, vocab_size\n",
        "\n",
        "\n",
        "#Read in the dataset and vocab size\n",
        "x_train_word, y_train_word, x_test_word, y_test_word, vocab_size_word = read_data_words()\n",
        "\n",
        "# Use `tf.data` to batch and shuffle the dataset:\n",
        "train_ds_word = tf.data.Dataset.from_tensor_slices(\n",
        "    (x_train_word, y_train_word)).shuffle(10000).batch(batch_size)\n",
        "test_ds_word = tf.data.Dataset.from_tensor_slices((x_test_word, y_test_word)).batch(batch_size)"
      ],
      "execution_count": null,
      "outputs": []
    },
    {
      "cell_type": "markdown",
      "metadata": {
        "id": "y763ornESgN-"
      },
      "source": [
        "# Training & Testing Step Functions"
      ]
    },
    {
      "cell_type": "markdown",
      "metadata": {
        "id": "PzNKDzwjSjVl"
      },
      "source": [
        "## T&T for CNNs"
      ]
    },
    {
      "cell_type": "code",
      "metadata": {
        "id": "kK48ilorSrpZ"
      },
      "source": [
        "# Training and Testing step function for CNN models\n",
        "\n",
        "#Training function\n",
        "def train_step(model, x, label, drop_rate):\n",
        "    #Computes gradient from the recorded \"tape\"\n",
        "    with tf.GradientTape() as tape:\n",
        "        out = model(x, drop_rate)\n",
        "        loss = loss_object(label, out)\n",
        "        gradients = tape.gradient(loss, model.trainable_variables)\n",
        "        optimizer.apply_gradients(zip(gradients, model.trainable_variables))\n",
        "        \n",
        "    train_loss(loss)\n",
        "    train_accuracy(labels, out)\n",
        "\n",
        "#Testing function\n",
        "def test_step(model, x, label, drop_rate=0):\n",
        "    out = model(x,drop_rate)\n",
        "    t_loss = loss_object(label, out)\n",
        "    test_loss(t_loss)\n",
        "    test_accuracy(label, out)"
      ],
      "execution_count": null,
      "outputs": []
    },
    {
      "cell_type": "markdown",
      "metadata": {
        "id": "QWjX_yseSjZ2"
      },
      "source": [
        "## T&T for RNNs"
      ]
    },
    {
      "cell_type": "code",
      "metadata": {
        "id": "OMsnwXi3SfmP"
      },
      "source": [
        "def train_step_2(model, x, label, drop_rate):\n",
        "    with tf.GradientTape() as tape:\n",
        "        out = model(x, drop_rate)\n",
        "        loss = loss_object_2(label, out)\n",
        "        gradients = tape.gradient(loss, model.trainable_variables)\n",
        "        optimizer.apply_gradients(zip(gradients, model.trainable_variables))\n",
        "        \n",
        "    train_loss(loss)\n",
        "    train_accuracy(labels, out)\n",
        "\n",
        "# Testing function\n",
        "def test_step_2(model, x, label, drop_rate=0):\n",
        "    out = model(x,drop_rate)\n",
        "    t_loss = loss_object_2(label, out)\n",
        "    test_loss(t_loss)\n",
        "    test_accuracy(label, out)"
      ],
      "execution_count": null,
      "outputs": []
    },
    {
      "cell_type": "markdown",
      "metadata": {
        "id": "KiQuV6jnNsIm"
      },
      "source": [
        "# CharCNN Model w/ Dropout"
      ]
    },
    {
      "cell_type": "code",
      "metadata": {
        "id": "8bQRLd0CjYoi"
      },
      "source": [
        "tf.keras.backend.set_floatx('float32')\n",
        "class CharCNN(Model):\n",
        "    def __init__(self, vocab_size=256):\n",
        "        super(CharCNN, self).__init__()\n",
        "        self.vocab_size = vocab_size\n",
        "        #Weight variables and CNN cell\n",
        "        self.conv1 = layers.Conv2D(N_FILTERS, FILTER_SHAPE1, padding='VALID', activation='relu', use_bias=True)\n",
        "        self.pool1 = layers.MaxPool2D(POOLING_WINDOW, POOLING_STRIDE, padding='SAME')\n",
        "        self.conv2 = layers.Conv2D(N_FILTERS, FILTER_SHAPE2, padding='VALID', activation='relu', use_bias=True)\n",
        "        self.pool2 = layers.MaxPool2D(POOLING_WINDOW, POOLING_STRIDE, padding='SAME')\n",
        "        self.flatten = layers.Flatten()\n",
        "        self.dense = layers.Dense(MAX_LABEL, activation='softmax')\n",
        "\n",
        "    def call(self, x, drop_rate=0.5):\n",
        "        #forward\n",
        "        x = tf.one_hot(x, one_hot_size)\n",
        "        x = x[..., tf.newaxis] \n",
        "        x = self.conv1(x)\n",
        "        x = self.pool1(x)\n",
        "        x = self.conv2(x)\n",
        "        x = self.pool2(x)\n",
        "        x = self.flatten(x)\n",
        "        x = tf.nn.dropout(x, drop_rate)\n",
        "        logits = self.dense(x)\n",
        "        return logits"
      ],
      "execution_count": null,
      "outputs": []
    },
    {
      "cell_type": "code",
      "metadata": {
        "id": "M3MPlnVpNpSh",
        "outputId": "f6837083-b08e-4283-fc96-28b689cbac46",
        "colab": {
          "base_uri": "https://localhost:8080/"
        }
      },
      "source": [
        "#Choose optimizer and loss function for training\n",
        "loss_object = tf.keras.losses.SparseCategoricalCrossentropy()\n",
        "optimizer = tf.keras.optimizers.Adam(learning_rate=lr)\n",
        "\n",
        "#Select metrics to measure the loss and the accuracy of the model. \n",
        "#These metrics accumulate the values over epochs and then print the overall result.\n",
        "train_loss = tf.keras.metrics.Mean(name='train_loss')\n",
        "train_accuracy = tf.keras.metrics.SparseCategoricalAccuracy(name='train_accuracy')\n",
        "\n",
        "test_loss = tf.keras.metrics.Mean(name='test_loss')\n",
        "test_accuracy = tf.keras.metrics.SparseCategoricalAccuracy(name='test_accuracy')\n",
        "\n",
        "\n",
        "#Char CNN model with dropout\n",
        "CharCNN_dropout_model = CharCNN(256)\n",
        "\n",
        "test_acc_CharCNN_dropout = []\n",
        "train_acc_CharCNN_dropout= []\n",
        "test_loss_CharCNN_dropout=[]\n",
        "train_loss_CharCNN_dropout=[]\n",
        "\n",
        "charCNN_dropout_timer = 0\n",
        "\n",
        "\n",
        "\n",
        "for epoch in range(no_epochs):\n",
        "    # Reset the metrics at the start of the next epoch\n",
        "    train_loss.reset_states()\n",
        "    train_accuracy.reset_states()\n",
        "    test_loss.reset_states()\n",
        "    test_accuracy.reset_states()\n",
        "\n",
        "    epoch_start_time = time.perf_counter()\n",
        "    for images, labels in train_ds:\n",
        "        train_step(CharCNN_dropout_model, images, labels, drop_rate=0.5)\n",
        "\n",
        "    for images, labels in test_ds:\n",
        "        test_step(CharCNN_dropout_model, images, labels, drop_rate=0)\n",
        "\n",
        "    epoch_end_time = time.perf_counter()\n",
        "    charCNN_dropout_timer = charCNN_dropout_timer + epoch_end_time - epoch_start_time\n",
        "    \n",
        "    test_acc_CharCNN_dropout.append(test_accuracy.result())\n",
        "    train_acc_CharCNN_dropout.append(train_accuracy.result())\n",
        "    test_loss_CharCNN_dropout.append(test_loss.result())\n",
        "    train_loss_CharCNN_dropout.append(train_loss.result())\n",
        "\n",
        "    if ( (epoch+1)%50 == 0 ): \n",
        "        print('[Epoch {}]'.format(epoch+1))\n",
        "        print('⏵Train Loss: {}'.format(train_loss.result()))\n",
        "        print('⏵Train Acc:  {}'.format(train_accuracy.result()))\n",
        "        print('⏵Test Loss:  {}'.format(test_loss.result()))\n",
        "        print('⏵Test Acc:   {}'.format(test_accuracy.result()))\n",
        "        print('')\n",
        "\n",
        "print('Time Taken: {} seconds.'.format(charCNN_dropout_timer))"
      ],
      "execution_count": null,
      "outputs": [
        {
          "output_type": "stream",
          "text": [
            "[Epoch 50]\n",
            "⏵Train Loss: 0.3561769723892212\n",
            "⏵Train Acc:  0.8817856907844543\n",
            "⏵Test Loss:  2.298327684402466\n",
            "⏵Test Acc:   0.6371428370475769\n",
            "\n",
            "[Epoch 100]\n",
            "⏵Train Loss: 0.28054487705230713\n",
            "⏵Train Acc:  0.9125000238418579\n",
            "⏵Test Loss:  3.092275857925415\n",
            "⏵Test Acc:   0.6285714507102966\n",
            "\n",
            "[Epoch 150]\n",
            "⏵Train Loss: 0.2904159724712372\n",
            "⏵Train Acc:  0.9132142663002014\n",
            "⏵Test Loss:  3.285663366317749\n",
            "⏵Test Acc:   0.6114285588264465\n",
            "\n",
            "[Epoch 200]\n",
            "⏵Train Loss: 0.26559045910835266\n",
            "⏵Train Acc:  0.920714259147644\n",
            "⏵Test Loss:  3.3942623138427734\n",
            "⏵Test Acc:   0.631428599357605\n",
            "\n",
            "[Epoch 250]\n",
            "⏵Train Loss: 0.26267683506011963\n",
            "⏵Train Acc:  0.9208928346633911\n",
            "⏵Test Loss:  3.6909172534942627\n",
            "⏵Test Acc:   0.6114285588264465\n",
            "\n",
            "Time Taken: 129.68128447000527 seconds.\n"
          ],
          "name": "stdout"
        }
      ]
    },
    {
      "cell_type": "markdown",
      "metadata": {
        "id": "ObSb3qSvS48A"
      },
      "source": [
        "## Pickle Dump"
      ]
    },
    {
      "cell_type": "code",
      "metadata": {
        "id": "WApur5uITAoN"
      },
      "source": [
        "instanced_variables = [test_acc_CharCNN_dropout, train_acc_CharCNN_dropout, test_loss_CharCNN_dropout, train_loss_CharCNN_dropout, charCNN_dropout_timer]\n",
        "\n",
        "# create directory in your gdrive\n",
        "filename = f'/content/gdrive/My Drive/Colab Output/Part_B_Q5_CharCNN_Dropout_variables'\n",
        "outfile = open(filename,'wb')\n",
        "pickle.dump(instanced_variables, outfile)\n",
        "outfile.close()"
      ],
      "execution_count": null,
      "outputs": []
    },
    {
      "cell_type": "code",
      "metadata": {
        "id": "sTeWfGzs9Fxd"
      },
      "source": [
        "# Retrieve previously saved instanced variables w/ pickle rick\n",
        "infile = open(f'/content/gdrive/My Drive/Colab Output/Part_B_Q5_CharCNN_Dropout_variables', 'rb')\n",
        "retrieved_variables = pickle.load(infile)\n",
        "infile.close()\n",
        "\n",
        "# Load retrieved variables into instance variables for plotting\n",
        "test_acc_CharCNN, train_acc_CharRNN, test_loss_CharCNN, train_loss_CharCNN, charCNN_timer = retrieved_variables"
      ],
      "execution_count": 4,
      "outputs": []
    },
    {
      "cell_type": "code",
      "metadata": {
        "id": "Wj7RM_YY9Pby",
        "outputId": "b0f51794-5019-46f0-ea71-a64d2664c6dc",
        "colab": {
          "base_uri": "https://localhost:8080/"
        }
      },
      "source": [
        "# get highest accuracy values\n",
        "highest_acc = max(test_acc_CharCNN)\n",
        "\n",
        "# get average accuracy\n",
        "average_acc = sum(test_acc_CharCNN)/len(test_acc_CharCNN)\n",
        "\n",
        "print('Highest Acc')\n",
        "print(highest_acc)\n",
        "\n",
        "print('')\n",
        "\n",
        "print('Avg Acc')\n",
        "print(average_acc)"
      ],
      "execution_count": 6,
      "outputs": [
        {
          "output_type": "stream",
          "text": [
            "Highest Acc\n",
            "tf.Tensor(0.6542857, shape=(), dtype=float32)\n",
            "\n",
            "Avg Acc\n",
            "tf.Tensor(0.62101156, shape=(), dtype=float32)\n"
          ],
          "name": "stdout"
        }
      ]
    },
    {
      "cell_type": "markdown",
      "metadata": {
        "id": "VXtTpA0SVQdM"
      },
      "source": [
        "## CharCNN Plot"
      ]
    },
    {
      "cell_type": "markdown",
      "metadata": {
        "id": "j-b6Tc1ZVVo7"
      },
      "source": [
        "### CharCNN Accuracy"
      ]
    },
    {
      "cell_type": "code",
      "metadata": {
        "id": "TnT75p0-VQ4O",
        "outputId": "0069605d-a0c4-4921-8c15-f7f69b2507f0",
        "colab": {
          "base_uri": "https://localhost:8080/",
          "height": 279
        }
      },
      "source": [
        "plt.plot(train_acc_CharCNN_dropout,label=\"Train accuracy\")\n",
        "plt.plot(test_acc_CharCNN_dropout,label=\"Test accuracy\")\n",
        "plt.ylabel(\"Accuracy\")\n",
        "plt.xlabel(\"Epochs\")\n",
        "plt.legend()\n",
        "plt.show()\n",
        "plt.close()"
      ],
      "execution_count": null,
      "outputs": [
        {
          "output_type": "display_data",
          "data": {
            "image/png": "[encoded data removed]",
            "text/plain": [
              "<Figure size 432x288 with 1 Axes>"
            ]
          },
          "metadata": {
            "tags": [],
            "needs_background": "light"
          }
        }
      ]
    },
    {
      "cell_type": "markdown",
      "metadata": {
        "id": "Chghe3uEVhxs"
      },
      "source": [
        "### CharCNN Loss"
      ]
    },
    {
      "cell_type": "code",
      "metadata": {
        "id": "IZ-sOjGjVhAg",
        "outputId": "b969d8dd-3ef0-45eb-8c1b-5487655e59f0",
        "colab": {
          "base_uri": "https://localhost:8080/",
          "height": 279
        }
      },
      "source": [
        "plt.plot(train_loss_CharCNN_dropout,label=\"Train loss\")\n",
        "plt.plot(test_loss_CharCNN_dropout,label=\"Test loss\")\n",
        "plt.ylabel(\"Loss\")\n",
        "plt.xlabel(\"Epochs\")\n",
        "plt.legend()\n",
        "plt.show()\n",
        "plt.close()"
      ],
      "execution_count": null,
      "outputs": [
        {
          "output_type": "display_data",
          "data": {
            "image/png": "[encoded data removed]",
            "text/plain": [
              "<Figure size 432x288 with 1 Axes>"
            ]
          },
          "metadata": {
            "tags": [],
            "needs_background": "light"
          }
        }
      ]
    },
    {
      "cell_type": "markdown",
      "metadata": {
        "id": "F3bYsmQ7NusA"
      },
      "source": [
        "# WordCNN Model w/ Dropout"
      ]
    },
    {
      "cell_type": "code",
      "metadata": {
        "id": "xRq6GhyIjdIZ"
      },
      "source": [
        "#Define WordCNN Model\n",
        "class WordCNN(Model):\n",
        "    def __init__(self, vocab_size=256):\n",
        "        super(WordCNN, self).__init__()\n",
        "        self.vocab_size = vocab_size\n",
        "        #Weight variables, embedding layer & CNN cell\n",
        "        self.embedding = layers.Embedding(vocab_size, EMBEDDING_SIZE, input_length=MAX_DOCUMENT_LENGTH)\n",
        "        self.conv1 = layers.Conv2D(N_FILTERS, FILTER_SHAPE3, padding='VALID', activation='relu', use_bias=True)\n",
        "        self.pool1 = layers.MaxPool2D(POOLING_WINDOW, POOLING_STRIDE, padding='SAME')\n",
        "        self.conv2 = layers.Conv2D(N_FILTERS, FILTER_SHAPE2, padding='VALID', activation='relu', use_bias=True)\n",
        "        self.pool2 = layers.MaxPool2D(POOLING_WINDOW, POOLING_STRIDE, padding='SAME')\n",
        "        self.flatten = layers.Flatten()\n",
        "        self.dense = layers.Dense(MAX_LABEL, activation='softmax')\n",
        "\n",
        "    def call(self, x, drop_rate=0.5):\n",
        "        #forward\n",
        "\n",
        "        #x = tf.one_hot(x, 256)\n",
        "        x = self.embedding(x)\n",
        "        x = x[..., tf.newaxis]\n",
        "        x = self.conv1(x)\n",
        "        x = self.pool1(x)\n",
        "        x = self.conv2(x)\n",
        "        x = self.pool2(x)\n",
        "        x = self.flatten(x)\n",
        "        x = tf.nn.dropout(x, drop_rate)\n",
        "        logits = self.dense(x)\n",
        "        return logits"
      ],
      "execution_count": null,
      "outputs": []
    },
    {
      "cell_type": "code",
      "metadata": {
        "id": "3TY42vdrNwlC",
        "outputId": "1c4d37ec-c669-4e0d-cb90-9dd47402d583",
        "colab": {
          "base_uri": "https://localhost:8080/"
        }
      },
      "source": [
        "#Choose optimizer and loss function for training\n",
        "loss_object = tf.keras.losses.SparseCategoricalCrossentropy()\n",
        "optimizer = tf.keras.optimizers.Adam(learning_rate=lr)\n",
        "\n",
        "#Select metrics to measure the loss and the accuracy of the model. \n",
        "#These metrics accumulate the values over epochs and then print the overall result.\n",
        "train_loss = tf.keras.metrics.Mean(name='train_loss')\n",
        "train_accuracy = tf.keras.metrics.SparseCategoricalAccuracy(name='train_accuracy')\n",
        "\n",
        "test_loss = tf.keras.metrics.Mean(name='test_loss')\n",
        "test_accuracy = tf.keras.metrics.SparseCategoricalAccuracy(name='test_accuracy')\n",
        "\n",
        "#Word CNN model with dropout\n",
        "WordCNN_dropout_model = WordCNN(vocab_size_word)\n",
        "\n",
        "test_acc_WordCNN_dropout = []\n",
        "train_acc_WordCNN_dropout= []\n",
        "test_loss_WordCNN_dropout=[]\n",
        "train_loss_WordCNN_dropout=[]\n",
        "\n",
        "wordCNN_dropout_timer = 0\n",
        "\n",
        "\n",
        "\n",
        "for epoch in range(no_epochs):\n",
        "\n",
        "    # Reset the metrics at the start of the next epoch\n",
        "    train_loss.reset_states()\n",
        "    train_accuracy.reset_states()\n",
        "    test_loss.reset_states()\n",
        "    test_accuracy.reset_states()\n",
        "\n",
        "    epoch_start_time = time.perf_counter()\n",
        "    for images, labels in train_ds_word:\n",
        "        train_step(WordCNN_dropout_model, images, labels, drop_rate=0.5)\n",
        "\n",
        "    for images, labels in test_ds_word:\n",
        "        test_step(WordCNN_dropout_model, images, labels, drop_rate=0)\n",
        "\n",
        "    epoch_end_time = time.perf_counter()\n",
        "    wordCNN_dropout_timer = wordCNN_dropout_timer + epoch_end_time - epoch_start_time\n",
        "\n",
        "    test_acc_WordCNN_dropout.append(test_accuracy.result())\n",
        "    train_acc_WordCNN_dropout.append(train_accuracy.result())\n",
        "    test_loss_WordCNN_dropout.append(test_loss.result())\n",
        "    train_loss_WordCNN_dropout.append(train_loss.result())\n",
        "\n",
        "    if ( (epoch+1)%50 == 0 ): \n",
        "        print('[Epoch {}]'.format(epoch+1))\n",
        "        print('⏵Train Loss: {}'.format(train_loss.result()))\n",
        "        print('⏵Train Acc:  {}'.format(train_accuracy.result()))\n",
        "        print('⏵Test Loss:  {}'.format(test_loss.result()))\n",
        "        print('⏵Test Acc:   {}'.format(test_accuracy.result()))\n",
        "        print('')\n",
        "\n",
        "print('Time Taken: {} seconds.'.format(wordCNN_dropout_timer))"
      ],
      "execution_count": null,
      "outputs": [
        {
          "output_type": "stream",
          "text": [
            "[Epoch 50]\n",
            "⏵Train Loss: 0.24334503710269928\n",
            "⏵Train Acc:  0.9508928656578064\n",
            "⏵Test Loss:  1.8457242250442505\n",
            "⏵Test Acc:   0.7471428513526917\n",
            "\n",
            "[Epoch 100]\n",
            "⏵Train Loss: 0.39676597714424133\n",
            "⏵Train Acc:  0.9517857432365417\n",
            "⏵Test Loss:  2.384500741958618\n",
            "⏵Test Acc:   0.7699999809265137\n",
            "\n",
            "[Epoch 150]\n",
            "⏵Train Loss: 0.5664955377578735\n",
            "⏵Train Acc:  0.9305357336997986\n",
            "⏵Test Loss:  2.596106767654419\n",
            "⏵Test Acc:   0.7485714554786682\n",
            "\n",
            "[Epoch 200]\n",
            "⏵Train Loss: 0.8798759579658508\n",
            "⏵Train Acc:  0.9208928346633911\n",
            "⏵Test Loss:  3.0937185287475586\n",
            "⏵Test Acc:   0.7457143068313599\n",
            "\n",
            "[Epoch 250]\n",
            "⏵Train Loss: 0.9146032929420471\n",
            "⏵Train Acc:  0.9169642925262451\n",
            "⏵Test Loss:  3.1004350185394287\n",
            "⏵Test Acc:   0.7528571486473083\n",
            "\n",
            "Time Taken: 257.7786520959926 seconds.\n"
          ],
          "name": "stdout"
        }
      ]
    },
    {
      "cell_type": "markdown",
      "metadata": {
        "id": "oUmHiNX6TQ0-"
      },
      "source": [
        "## Pickle Dump"
      ]
    },
    {
      "cell_type": "code",
      "metadata": {
        "id": "6u9DY3acTRtI"
      },
      "source": [
        "instanced_variables = [test_acc_WordCNN_dropout, train_acc_WordCNN_dropout, test_loss_WordCNN_dropout, train_loss_WordCNN_dropout, wordCNN_dropout_timer]\n",
        "\n",
        "# create directory in your gdrive\n",
        "filename = f'/content/gdrive/My Drive/Colab Output/Part_B_Q5_WordCNN_Dropout_variables'\n",
        "outfile = open(filename,'wb')\n",
        "pickle.dump(instanced_variables, outfile)\n",
        "outfile.close()"
      ],
      "execution_count": null,
      "outputs": []
    },
    {
      "cell_type": "code",
      "metadata": {
        "id": "Vr-s6ulz9nqt"
      },
      "source": [
        "# Retrieve previously saved instanced variables w/ pickle rick\n",
        "infile = open(f'/content/gdrive/My Drive/Colab Output/Part_B_Q5_WordCNN_Dropout_variables', 'rb')\n",
        "retrieved_variables = pickle.load(infile)\n",
        "infile.close()\n",
        "\n",
        "# Load retrieved variables into instance variables for plotting\n",
        "test_acc_WordCNN, train_acc_WordCNN, test_loss_WordCNN, train_loss_WordCNN, wordCNN_timer = retrieved_variables"
      ],
      "execution_count": 7,
      "outputs": []
    },
    {
      "cell_type": "code",
      "metadata": {
        "id": "YqDEHTnj9vFS",
        "outputId": "9410e764-e7dd-4b39-9f0f-f8e523720fce",
        "colab": {
          "base_uri": "https://localhost:8080/"
        }
      },
      "source": [
        "# get highest accuracy values\n",
        "highest_acc = max(test_acc_WordCNN)\n",
        "\n",
        "# get average accuracy\n",
        "average_acc = sum(test_acc_WordCNN)/len(test_acc_WordCNN)\n",
        "\n",
        "print('Highest Acc')\n",
        "print(highest_acc)\n",
        "\n",
        "print('')\n",
        "\n",
        "print('Avg Acc')\n",
        "print(average_acc)"
      ],
      "execution_count": 8,
      "outputs": [
        {
          "output_type": "stream",
          "text": [
            "Highest Acc\n",
            "tf.Tensor(0.79142857, shape=(), dtype=float32)\n",
            "\n",
            "Avg Acc\n",
            "tf.Tensor(0.74875396, shape=(), dtype=float32)\n"
          ],
          "name": "stdout"
        }
      ]
    },
    {
      "cell_type": "markdown",
      "metadata": {
        "id": "q6vhyCVuVo5U"
      },
      "source": [
        "## WordCNN Plot"
      ]
    },
    {
      "cell_type": "markdown",
      "metadata": {
        "id": "NQBQj8rNVqUm"
      },
      "source": [
        "### WordCNN Accuracy"
      ]
    },
    {
      "cell_type": "code",
      "metadata": {
        "id": "B39_h5VGVpNG",
        "outputId": "ae5eb74e-471b-4725-ab6f-f5b252ff36fb",
        "colab": {
          "base_uri": "https://localhost:8080/"
        }
      },
      "source": [
        "plt.plot(train_acc_WordCNN_dropout,label=\"Train accuracy\")\n",
        "plt.plot(test_acc_WordCNN_dropout,label=\"Test accuracy\")\n",
        "plt.ylabel(\"Accuracy\")\n",
        "plt.xlabel(\"Epochs\")\n",
        "plt.legend()\n",
        "plt.show()\n",
        "plt.close()"
      ],
      "execution_count": null,
      "outputs": [
        {
          "output_type": "display_data",
          "data": {
            "image/png": "[encoded data removed]",
            "text/plain": [
              "<Figure size 432x288 with 1 Axes>"
            ]
          },
          "metadata": {
            "tags": [],
            "needs_background": "light"
          }
        }
      ]
    },
    {
      "cell_type": "markdown",
      "metadata": {
        "id": "Xv6TUtjlVra9"
      },
      "source": [
        "### WordCNN Loss"
      ]
    },
    {
      "cell_type": "code",
      "metadata": {
        "id": "UaaQhLFIVrjJ",
        "outputId": "23efd6cf-1107-4296-baee-dea00a3b2ac1",
        "colab": {
          "base_uri": "https://localhost:8080/"
        }
      },
      "source": [
        "plt.plot(train_loss_WordCNN_dropout,label=\"Train loss\")\n",
        "plt.plot(test_loss_WordCNN_dropout,label=\"Test loss\")\n",
        "plt.ylabel(\"Loss\")\n",
        "plt.xlabel(\"Epochs\")\n",
        "plt.legend()\n",
        "plt.show()\n",
        "plt.close()"
      ],
      "execution_count": null,
      "outputs": [
        {
          "output_type": "display_data",
          "data": {
            "image/png": "[encoded data removed]",
            "text/plain": [
              "<Figure size 432x288 with 1 Axes>"
            ]
          },
          "metadata": {
            "tags": [],
            "needs_background": "light"
          }
        }
      ]
    },
    {
      "cell_type": "markdown",
      "metadata": {
        "id": "6xUQOdg5Nx1_"
      },
      "source": [
        "# CharRNN Model w/ Dropout"
      ]
    },
    {
      "cell_type": "code",
      "metadata": {
        "id": "qRTtFK_MjpkM"
      },
      "source": [
        "class CharRNN(Model):\n",
        "\n",
        "    def __init__(self, vocab_size=256, hidden_dim=10):\n",
        "        super(CharRNN, self).__init__()\n",
        "        self.vocab_size = vocab_size\n",
        "        self.hidden_dim = hidden_dim\n",
        "        \n",
        "        # Weight variables and RNN cell\n",
        "        self.rnn = layers.RNN(tf.keras.layers.GRUCell(self.hidden_dim), unroll=True)\n",
        "        self.dense = layers.Dense(MAX_LABEL, activation=None)\n",
        "\n",
        "    def call(self, x, drop_rate):\n",
        "        # forward logic\n",
        "        categorical_labels = to_categorical(x, self.vocab_size)\n",
        "        encoding = self.rnn(categorical_labels)\n",
        "        encoding = tf.nn.dropout(encoding, drop_rate)\n",
        "        logits = self.dense(encoding)\n",
        "    \n",
        "        return logits"
      ],
      "execution_count": null,
      "outputs": []
    },
    {
      "cell_type": "code",
      "metadata": {
        "id": "rQUfNRc8Nzel",
        "outputId": "6d00a824-49e8-405b-9473-cd8b7db29544",
        "colab": {
          "base_uri": "https://localhost:8080/"
        }
      },
      "source": [
        "#Choose optimizer and loss function for training\n",
        "loss_object_2 = tf.keras.losses.SparseCategoricalCrossentropy(from_logits=True)\n",
        "optimizer = tf.keras.optimizers.Adam(learning_rate=lr)\n",
        "\n",
        "#Select metrics to measure the loss and the accuracy of the model. \n",
        "#These metrics accumulate the values over epochs and then print the overall result.\n",
        "train_loss = tf.keras.metrics.Mean(name='train_loss')\n",
        "train_accuracy = tf.keras.metrics.SparseCategoricalAccuracy(name='train_accuracy')\n",
        "\n",
        "test_loss = tf.keras.metrics.Mean(name='test_loss')\n",
        "test_accuracy = tf.keras.metrics.SparseCategoricalAccuracy(name='test_accuracy')\n",
        "\n",
        "CharRNN_dropout_model = CharRNN(256, HIDDEN_SIZE)\n",
        "\n",
        "test_acc_CharRNN_dropout = []\n",
        "train_acc_CharRNN_dropout = []\n",
        "test_loss_CharRNN_dropout =[]\n",
        "train_loss_CharRNN_dropout =[]\n",
        "\n",
        "charRNN_dropout_timer = 0\n",
        "\n",
        "\n",
        "\n",
        "for epoch in range(no_epochs):\n",
        "    # Reset the metrics at the start of the next epoch\n",
        "    train_loss.reset_states()\n",
        "    train_accuracy.reset_states()\n",
        "    test_loss.reset_states()\n",
        "    test_accuracy.reset_states()\n",
        "\n",
        "    epoch_start_time = time.perf_counter()\n",
        "    \n",
        "    for images, labels in train_ds:\n",
        "        train_step_2(CharRNN_dropout_model, images, labels, drop_rate=0.5)\n",
        "\n",
        "    for images, labels in test_ds:\n",
        "        test_step_2(CharRNN_dropout_model, images, labels, drop_rate=0)\n",
        "\n",
        "    epoch_end_time = time.perf_counter()\n",
        "    charRNN_dropout_timer = charRNN_dropout_timer + epoch_end_time - epoch_start_time\n",
        "    \n",
        "    test_acc_CharRNN_dropout.append(test_accuracy.result())\n",
        "    train_acc_CharRNN_dropout.append(train_accuracy.result())\n",
        "    test_loss_CharRNN_dropout.append(test_loss.result())\n",
        "    train_loss_CharRNN_dropout.append(train_loss.result())\n",
        "\n",
        "    if ( (epoch+1)%50 == 0 ): \n",
        "        print('[Epoch {}]'.format(epoch+1))\n",
        "        print('⏵Train Loss: {}'.format(train_loss.result()))\n",
        "        print('⏵Train Acc:  {}'.format(train_accuracy.result()))\n",
        "        print('⏵Test Loss:  {}'.format(test_loss.result()))\n",
        "        print('⏵Test Acc:   {}'.format(test_accuracy.result()))\n",
        "        print('')\n",
        "\n",
        "print('Time Taken: {} seconds.'.format(charRNN_dropout_timer))"
      ],
      "execution_count": null,
      "outputs": [
        {
          "output_type": "stream",
          "text": [
            "[Epoch 50]\n",
            "⏵Train Loss: 0.8812198042869568\n",
            "⏵Train Acc:  0.6928571462631226\n",
            "⏵Test Loss:  1.0688921213150024\n",
            "⏵Test Acc:   0.6600000262260437\n",
            "\n",
            "[Epoch 100]\n",
            "⏵Train Loss: 0.702340841293335\n",
            "⏵Train Acc:  0.7510714530944824\n",
            "⏵Test Loss:  1.0419833660125732\n",
            "⏵Test Acc:   0.7014285922050476\n",
            "\n",
            "[Epoch 150]\n",
            "⏵Train Loss: 0.6422063708305359\n",
            "⏵Train Acc:  0.7751785516738892\n",
            "⏵Test Loss:  1.1624189615249634\n",
            "⏵Test Acc:   0.6985714435577393\n",
            "\n",
            "[Epoch 200]\n",
            "⏵Train Loss: 0.7242007255554199\n",
            "⏵Train Acc:  0.758392870426178\n",
            "⏵Test Loss:  1.158546805381775\n",
            "⏵Test Acc:   0.6842857003211975\n",
            "\n",
            "[Epoch 250]\n",
            "⏵Train Loss: 0.5880512595176697\n",
            "⏵Train Acc:  0.791607141494751\n",
            "⏵Test Loss:  1.210943579673767\n",
            "⏵Test Acc:   0.6857143044471741\n",
            "\n",
            "Time Taken: 2163.4297472329963 seconds.\n"
          ],
          "name": "stdout"
        }
      ]
    },
    {
      "cell_type": "markdown",
      "metadata": {
        "id": "fhuVb-ztTPnk"
      },
      "source": [
        "## Pickle Dump"
      ]
    },
    {
      "cell_type": "code",
      "metadata": {
        "id": "3xKfJr_JTSVb"
      },
      "source": [
        "instanced_variables = [test_acc_CharRNN_dropout, train_acc_CharRNN_dropout, test_loss_CharRNN_dropout, train_loss_CharRNN_dropout, charRNN_dropout_timer]\n",
        "\n",
        "# create directory in your gdrive\n",
        "filename = f'/content/gdrive/My Drive/Colab Output/Part_B_Q5_CharRNN_Dropout_variables'\n",
        "outfile = open(filename,'wb')\n",
        "pickle.dump(instanced_variables, outfile)\n",
        "outfile.close()"
      ],
      "execution_count": null,
      "outputs": []
    },
    {
      "cell_type": "code",
      "metadata": {
        "id": "S35ok2Z1-DZ8"
      },
      "source": [
        "# Retrieve previously saved instanced variables w/ pickle rick\n",
        "infile = open(f'/content/gdrive/My Drive/Colab Output/Part_B_Q5_CharRNN_Dropout_variables', 'rb')\n",
        "retrieved_variables = pickle.load(infile)\n",
        "infile.close()\n",
        "\n",
        "# Load retrieved variables into instance variables for plotting\n",
        "test_acc_CharRNN, train_acc_CharRNN, test_loss_CharRNN, train_loss_CharRNN, charRNN_timer = retrieved_variables"
      ],
      "execution_count": 10,
      "outputs": []
    },
    {
      "cell_type": "code",
      "metadata": {
        "id": "SsVGtnww-Kkv",
        "outputId": "26ab6811-08bd-4b19-c127-bc8bdf01625c",
        "colab": {
          "base_uri": "https://localhost:8080/"
        }
      },
      "source": [
        "# get highest accuracy values\n",
        "highest_acc = max(test_acc_CharRNN)\n",
        "\n",
        "# get average accuracy\n",
        "average_acc = sum(test_acc_CharRNN)/len(test_acc_CharRNN)\n",
        "\n",
        "print('Highest Acc')\n",
        "print(highest_acc)\n",
        "\n",
        "print('')\n",
        "\n",
        "print('Avg Acc')\n",
        "print(average_acc)"
      ],
      "execution_count": 11,
      "outputs": [
        {
          "output_type": "stream",
          "text": [
            "Highest Acc\n",
            "tf.Tensor(0.71428573, shape=(), dtype=float32)\n",
            "\n",
            "Avg Acc\n",
            "tf.Tensor(0.65677655, shape=(), dtype=float32)\n"
          ],
          "name": "stdout"
        }
      ]
    },
    {
      "cell_type": "markdown",
      "metadata": {
        "id": "XUcUNjX2WMAY"
      },
      "source": [
        "## CharRNN Plot"
      ]
    },
    {
      "cell_type": "markdown",
      "metadata": {
        "id": "vnwovY6BWMkf"
      },
      "source": [
        "### CharRNN Accuracy"
      ]
    },
    {
      "cell_type": "code",
      "metadata": {
        "id": "cyxtP1xqWMry",
        "outputId": "694f7793-30a5-4778-c6f8-1ebef942f7d9",
        "colab": {
          "base_uri": "https://localhost:8080/",
          "height": 279
        }
      },
      "source": [
        "plt.plot(train_acc_CharRNN_dropout,label=\"Train accuracy\")\n",
        "plt.plot(test_acc_CharRNN_dropout,label=\"Test accuracy\")\n",
        "plt.ylabel(\"Accuracy\")\n",
        "plt.xlabel(\"Epochs\")\n",
        "plt.legend()\n",
        "plt.show()\n",
        "plt.close()"
      ],
      "execution_count": null,
      "outputs": [
        {
          "output_type": "display_data",
          "data": {
            "image/png": "[encoded data removed]",
            "text/plain": [
              "<Figure size 432x288 with 1 Axes>"
            ]
          },
          "metadata": {
            "tags": [],
            "needs_background": "light"
          }
        }
      ]
    },
    {
      "cell_type": "markdown",
      "metadata": {
        "id": "8DiKTQCTWM44"
      },
      "source": [
        "### CharRNN Loss"
      ]
    },
    {
      "cell_type": "code",
      "metadata": {
        "id": "iv0AxzbtWM_j",
        "outputId": "59bd2eea-6224-469d-960a-ce7e0dd30d9b",
        "colab": {
          "base_uri": "https://localhost:8080/",
          "height": 279
        }
      },
      "source": [
        "plt.plot(train_loss_CharRNN_dropout,label=\"Train loss\")\n",
        "plt.plot(test_loss_CharRNN_dropout,label=\"Test loss\")\n",
        "plt.ylabel(\"Loss\")\n",
        "plt.xlabel(\"Epochs\")\n",
        "plt.legend()\n",
        "plt.show()\n",
        "plt.close()"
      ],
      "execution_count": null,
      "outputs": [
        {
          "output_type": "display_data",
          "data": {
            "image/png": "[encoded data removed]",
            "text/plain": [
              "<Figure size 432x288 with 1 Axes>"
            ]
          },
          "metadata": {
            "tags": [],
            "needs_background": "light"
          }
        }
      ]
    },
    {
      "cell_type": "markdown",
      "metadata": {
        "id": "_DdTKcVAN00T"
      },
      "source": [
        "# WordRNN Model w/ Dropout"
      ]
    },
    {
      "cell_type": "code",
      "metadata": {
        "id": "28shb5ZGjtd0"
      },
      "source": [
        "class WordRNN(Model):\n",
        "\n",
        "    def __init__(self, vocab_size, hidden_dim=10):\n",
        "        super(WordRNN, self).__init__()\n",
        "        # Hyperparameters\n",
        "        self.hidden_dim = hidden_dim\n",
        "        self.vocab_size = vocab_size\n",
        "        self.embedding = layers.Embedding(vocab_size, EMBEDDING_SIZE, input_length=MAX_DOCUMENT_LENGTH)\n",
        "        \n",
        "        # Weight variables and RNN cell\n",
        "        self.rnn = layers.RNN(tf.keras.layers.GRUCell(self.hidden_dim), unroll=True)\n",
        "        self.dense = layers.Dense(MAX_LABEL, activation=None)\n",
        "\n",
        "    def call(self, x, drop_rate):\n",
        "        # forward logic\n",
        "        embedding = self.embedding(x)\n",
        "        encoding = self.rnn(embedding)\n",
        "        encoding = tf.nn.dropout(encoding, drop_rate)\n",
        "        logits = self.dense(encoding)\n",
        "    \n",
        "        return logits"
      ],
      "execution_count": null,
      "outputs": []
    },
    {
      "cell_type": "code",
      "metadata": {
        "id": "F4fsJMNaN2XF",
        "outputId": "0181bf41-aad3-4a0b-98d6-0684d2103a5d",
        "colab": {
          "base_uri": "https://localhost:8080/"
        }
      },
      "source": [
        "#Choose optimizer and loss function for training\n",
        "loss_object_2 = tf.keras.losses.SparseCategoricalCrossentropy(from_logits=True)\n",
        "optimizer = tf.keras.optimizers.Adam(learning_rate=lr)\n",
        "\n",
        "#Select metrics to measure the loss and the accuracy of the model. \n",
        "#These metrics accumulate the values over epochs and then print the overall result.\n",
        "train_loss = tf.keras.metrics.Mean(name='train_loss')\n",
        "train_accuracy = tf.keras.metrics.SparseCategoricalAccuracy(name='train_accuracy')\n",
        "\n",
        "test_loss = tf.keras.metrics.Mean(name='test_loss')\n",
        "test_accuracy = tf.keras.metrics.SparseCategoricalAccuracy(name='test_accuracy')\n",
        "\n",
        "WordRNN_dropout_model = WordRNN(vocab_size_word, HIDDEN_SIZE)\n",
        "\n",
        "test_acc_WordRNN_dropout = []\n",
        "train_acc_WordRNN_dropout= []\n",
        "test_loss_WordRNN_dropout= []\n",
        "train_loss_WordRNN_dropout=[]\n",
        "\n",
        "wordRNN_dropout_timer = 0\n",
        "\n",
        "\n",
        "\n",
        "for epoch in range(no_epochs):\n",
        "    # Reset the metrics at the start of the next epoch\n",
        "    train_loss.reset_states()\n",
        "    train_accuracy.reset_states()\n",
        "    test_loss.reset_states()\n",
        "    test_accuracy.reset_states()\n",
        "\n",
        "    epoch_start_time = time.perf_counter()\n",
        "    \n",
        "    for images, labels in train_ds_word:\n",
        "        train_step_2(WordRNN_dropout_model, images, labels, drop_rate=0)\n",
        "\n",
        "    for images, labels in test_ds_word:\n",
        "        test_step_2(WordRNN_dropout_model, images, labels, drop_rate=0)\n",
        "\n",
        "    epoch_end_time = time.perf_counter()\n",
        "    wordRNN_dropout_timer = wordRNN_dropout_timer + epoch_end_time - epoch_start_time\n",
        "\n",
        "    test_acc_WordRNN_dropout.append(test_accuracy.result())\n",
        "    train_acc_WordRNN_dropout.append(train_accuracy.result())\n",
        "    test_loss_WordRNN_dropout.append(test_loss.result())\n",
        "    train_loss_WordRNN_dropout.append(train_loss.result())\n",
        "\n",
        "    if ( (epoch+1)%50 == 0 ): \n",
        "        print('[Epoch {}]'.format(epoch+1))\n",
        "        print('⏵Train Loss: {}'.format(train_loss.result()))\n",
        "        print('⏵Train Acc:  {}'.format(train_accuracy.result()))\n",
        "        print('⏵Test Loss:  {}'.format(test_loss.result()))\n",
        "        print('⏵Test Acc:   {}'.format(test_accuracy.result()))\n",
        "        print('')\n",
        "\n",
        "print('Time Taken: {} seconds.'.format(wordRNN_dropout_timer))"
      ],
      "execution_count": null,
      "outputs": [
        {
          "output_type": "stream",
          "text": [
            "[Epoch 50]\n",
            "⏵Train Loss: 0.00020179124840069562\n",
            "⏵Train Acc:  1.0\n",
            "⏵Test Loss:  0.8662602305412292\n",
            "⏵Test Acc:   0.8728571534156799\n",
            "\n",
            "[Epoch 100]\n",
            "⏵Train Loss: 4.0362010622629896e-05\n",
            "⏵Train Acc:  1.0\n",
            "⏵Test Loss:  1.0318496227264404\n",
            "⏵Test Acc:   0.8728571534156799\n",
            "\n",
            "[Epoch 150]\n",
            "⏵Train Loss: 1.157717179012252e-05\n",
            "⏵Train Acc:  1.0\n",
            "⏵Test Loss:  1.1457751989364624\n",
            "⏵Test Acc:   0.8728571534156799\n",
            "\n",
            "[Epoch 200]\n",
            "⏵Train Loss: 3.650930239018635e-06\n",
            "⏵Train Acc:  1.0\n",
            "⏵Test Loss:  1.2256264686584473\n",
            "⏵Test Acc:   0.8771428465843201\n",
            "\n",
            "[Epoch 250]\n",
            "⏵Train Loss: 1.173395389741927e-06\n",
            "⏵Train Acc:  1.0\n",
            "⏵Test Loss:  1.326763391494751\n",
            "⏵Test Acc:   0.8742856979370117\n",
            "\n",
            "Time Taken: 2300.185826468989 seconds.\n"
          ],
          "name": "stdout"
        }
      ]
    },
    {
      "cell_type": "markdown",
      "metadata": {
        "id": "ho0SnEhpTMvp"
      },
      "source": [
        "## Pickle Dump"
      ]
    },
    {
      "cell_type": "code",
      "metadata": {
        "id": "AHZzfDgHTLtn"
      },
      "source": [
        "instanced_variables = [test_acc_WordRNN_dropout, train_acc_WordRNN_dropout, test_loss_WordRNN_dropout, train_loss_WordRNN_dropout, wordRNN_dropout_timer]\n",
        "\n",
        "# create directory in your gdrive\n",
        "filename = f'/content/gdrive/My Drive/Colab Output/Part_B_Q5_WordRNN_Dropout_variables'\n",
        "outfile = open(filename,'wb')\n",
        "pickle.dump(instanced_variables, outfile)\n",
        "outfile.close()"
      ],
      "execution_count": null,
      "outputs": []
    },
    {
      "cell_type": "code",
      "metadata": {
        "id": "lux3Gr5S-VfH"
      },
      "source": [
        "# Retrieve previously saved instanced variables w/ pickle rick\n",
        "infile = open(f'/content/gdrive/My Drive/Colab Output/Part_B_Q5_WordRNN_Dropout_variables', 'rb')\n",
        "retrieved_variables = pickle.load(infile)\n",
        "infile.close()\n",
        "\n",
        "# Load retrieved variables into instance variables for plotting\n",
        "test_acc_WordRNN, train_acc_WordRNN, test_loss_WordRNN, train_loss_WordRNN, wordRNN_timer = retrieved_variables"
      ],
      "execution_count": 13,
      "outputs": []
    },
    {
      "cell_type": "code",
      "metadata": {
        "id": "jRcH-vcx-mDy",
        "outputId": "221adaa1-3805-4797-da33-8ea36a58ca4c",
        "colab": {
          "base_uri": "https://localhost:8080/"
        }
      },
      "source": [
        "# get highest accuracy values\n",
        "highest_acc = max(test_acc_WordRNN)\n",
        "\n",
        "# get average accuracy\n",
        "average_acc = sum(test_acc_WordRNN)/len(test_acc_WordRNN)\n",
        "\n",
        "print('Highest Acc')\n",
        "print(highest_acc)\n",
        "\n",
        "print('')\n",
        "\n",
        "print('Avg Acc')\n",
        "print(average_acc)"
      ],
      "execution_count": 14,
      "outputs": [
        {
          "output_type": "stream",
          "text": [
            "Highest Acc\n",
            "tf.Tensor(0.8842857, shape=(), dtype=float32)\n",
            "\n",
            "Avg Acc\n",
            "tf.Tensor(0.8657879, shape=(), dtype=float32)\n"
          ],
          "name": "stdout"
        }
      ]
    },
    {
      "cell_type": "markdown",
      "metadata": {
        "id": "N8rH-DWZWmMl"
      },
      "source": [
        "## WordRNN Plot"
      ]
    },
    {
      "cell_type": "markdown",
      "metadata": {
        "id": "Tb8z-KREWrow"
      },
      "source": [
        "### WordRNN Accuracy"
      ]
    },
    {
      "cell_type": "code",
      "metadata": {
        "id": "yx7njg6zWlfN",
        "outputId": "020d0e47-fe25-4ae2-e0b9-fb80b81ce981",
        "colab": {
          "base_uri": "https://localhost:8080/"
        }
      },
      "source": [
        "plt.plot(train_acc_WordRNN_dropout,label=\"Train accuracy\")\n",
        "plt.plot(test_acc_WordRNN_dropout,label=\"Test accuracy\")\n",
        "plt.ylabel(\"Accuracy\")\n",
        "plt.xlabel(\"Epochs\")\n",
        "plt.legend()\n",
        "plt.show()\n",
        "plt.close()"
      ],
      "execution_count": null,
      "outputs": [
        {
          "output_type": "display_data",
          "data": {
            "image/png": "[encoded data removed]",
            "text/plain": [
              "<Figure size 432x288 with 1 Axes>"
            ]
          },
          "metadata": {
            "tags": [],
            "needs_background": "light"
          }
        }
      ]
    },
    {
      "cell_type": "markdown",
      "metadata": {
        "id": "aGZllTMoWq9z"
      },
      "source": [
        "### WordRNN Loss"
      ]
    },
    {
      "cell_type": "code",
      "metadata": {
        "id": "WQKERe1rWqOb",
        "outputId": "c636e05b-6146-418f-ff6a-071ad6735c7c",
        "colab": {
          "base_uri": "https://localhost:8080/"
        }
      },
      "source": [
        "plt.plot(train_loss_WordRNN_dropout,label=\"Train loss\")\n",
        "plt.plot(test_loss_WordRNN_dropout,label=\"Test loss\")\n",
        "plt.ylabel(\"Loss\")\n",
        "plt.xlabel(\"Epochs\")\n",
        "plt.legend()\n",
        "plt.show()\n",
        "plt.close()"
      ],
      "execution_count": null,
      "outputs": [
        {
          "output_type": "display_data",
          "data": {
            "image/png": "[encoded data removed]",
            "text/plain": [
              "<Figure size 432x288 with 1 Axes>"
            ]
          },
          "metadata": {
            "tags": [],
            "needs_background": "light"
          }
        }
      ]
    }
  ]
}